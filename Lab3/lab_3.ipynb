{
  "cells": [
    {
      "cell_type": "markdown",
      "metadata": {
        "id": "Ubm3U-lx_nu-"
      },
      "source": [
        "# Sieci neuronowe"
      ]
    },
    {
      "cell_type": "markdown",
      "metadata": {
        "id": "34h5mrg2_nu_"
      },
      "source": [
        "## Wstęp\n",
        "\n",
        "Celem laboratorium jest zapoznanie się z podstawami sieci neuronowych oraz uczeniem głębokim (*deep learning*). Zapoznasz się na nim z następującymi tematami:\n",
        "- treningiem prostych sieci neuronowych, w szczególności z:\n",
        "  - regresją liniową w sieciach neuronowych\n",
        "  - optymalizacją funkcji kosztu\n",
        "  - algorytmem spadku wzdłuż gradientu\n",
        "  - siecią typu Multilayer Perceptron (MLP)\n",
        "- frameworkiem PyTorch, w szczególności z:\n",
        "  - ładowaniem danych\n",
        "  - preprocessingiem danych\n",
        "  - pisaniem pętli treningowej i walidacyjnej\n",
        "  - walidacją modeli\n",
        "- architekturą i hiperaprametrami sieci MLP, w szczególności z:\n",
        "  - warstwami gęstymi (w pełni połączonymi)\n",
        "  - funkcjami aktywacji\n",
        "  - regularyzacją: L2, dropout"
      ]
    },
    {
      "cell_type": "markdown",
      "metadata": {
        "id": "kDG08LlE_nvA"
      },
      "source": [
        "## Wykorzystywane biblioteki\n",
        "\n",
        "Zaczniemy od pisania ręcznie prostych sieci w bibliotece Numpy, służącej do obliczeń numerycznych na CPU. Później przejdziemy do wykorzystywania frameworka PyTorch, służącego do obliczeń numerycznych na CPU, GPU oraz automatycznego różniczkowania, wykorzystywanego głównie do treningu sieci neuronowych.\n",
        "\n",
        "Wykorzystamy PyTorcha ze względu na popularność, łatwość instalacji i użycia, oraz dużą kontrolę nad niskopoziomowymi aspektami budowy i treningu sieci neuronowych. Framework ten został stworzony do zastosowań badawczych i naukowych, ale ze względu na wygodę użycia stał się bardzo popularny także w przemyśle. W szczególności całkowicie zdominował przetwarzanie języka naturalnego (NLP) oraz uczenie na grafach.\n",
        "\n",
        "Pierwszy duży framework do deep learningu, oraz obecnie najpopularniejszy, to TensorFlow, wraz z wysokopoziomową nakładką Keras. Są jednak szanse, że Google (autorzy) będzie go powoli porzucać na rzecz ich nowego frameworka JAX ([dyskusja](https://www.reddit.com/r/MachineLearning/comments/vfl57t/d_google_quietly_moving_its_products_from/), [artykuł Business Insidera](https://www.businessinsider.com/facebook-pytorch-beat-google-tensorflow-jax-meta-ai-2022-6?IR=T)), który jest bardzo świeżym, ale ciekawym narzędziem.\n",
        "\n",
        "Trzecia, ale znacznie mniej popularna od powyższych opcja to Apache MXNet."
      ]
    },
    {
      "cell_type": "markdown",
      "metadata": {
        "id": "HdwBLC_h_nvA"
      },
      "source": [
        "## Konfiguracja własnego komputera\n",
        "\n",
        "Jeżeli korzystasz z własnego komputera, to musisz zainstalować trochę więcej bibliotek (Google Colab ma je już zainstalowane).\n",
        "\n",
        "Jeżeli nie masz GPU lub nie chcesz z niego korzystać, to wystarczy znaleźć odpowiednią komendę CPU [na stronie PyTorcha](https://pytorch.org/get-started/locally/). Dla Anacondy odpowiednia komenda została podana poniżej, dla pip'a znajdź ją na stronie.\n",
        "\n",
        "Jeżeli chcesz korzystać ze wsparcia GPU (na tym laboratorium nie będzie potrzebne, na kolejnych może przyspieszyć nieco obliczenia), to musi być to odpowiednio nowa karta NVidii, mająca CUDA compatibility ([lista](https://developer.nvidia.com/cuda-gpus)). Poza PyTorchem będzie potrzebne narzędzie NVidia CUDA w wersji 11.6 lub 11.7. Instalacja na Windowsie jest bardzo prosta (wystarczy ściągnąć plik EXE i zainstalować jak każdy inny program). Instalacja na Linuxie jest trudna i można względnie łatwo zepsuć sobie system, ale jeżeli chcesz spróbować, to [ten tutorial](https://www.youtube.com/results?search_query=nvidia+cuda+install+ubuntu+20.04) jest bardzo dobry."
      ]
    },
    {
      "cell_type": "code",
      "execution_count": 2,
      "metadata": {
        "colab": {
          "base_uri": "https://localhost:8080/"
        },
        "id": "N9ZjvAh3_nvA",
        "outputId": "7b796744-6517-4e65-8867-feb3bb39167a"
      },
      "outputs": [
        {
          "name": "stdout",
          "output_type": "stream",
          "text": [
            "/bin/bash: line 1: conda: command not found\n"
          ]
        }
      ],
      "source": [
        "# for conda users\n",
        "!conda install -y matplotlib pandas pytorch torchvision -c pytorch -c conda-forge"
      ]
    },
    {
      "cell_type": "markdown",
      "metadata": {
        "id": "Othm3C2lLAsj"
      },
      "source": [
        "## Wprowadzenie\n",
        "\n",
        "Zanim zaczniemy naszą przygodę z sieciami neuronowymi, przyjrzyjmy się prostemu przykładowi regresji liniowej na syntetycznych danych:"
      ]
    },
    {
      "cell_type": "code",
      "execution_count": 3,
      "metadata": {
        "id": "rnJsfxbnLAsj"
      },
      "outputs": [],
      "source": [
        "from typing import Tuple, Dict\n",
        "\n",
        "import numpy as np\n",
        "import matplotlib.pyplot as plt"
      ]
    },
    {
      "cell_type": "code",
      "execution_count": 4,
      "metadata": {
        "colab": {
          "base_uri": "https://localhost:8080/",
          "height": 447
        },
        "id": "EaYpEXzBLAsl",
        "outputId": "0f851a7f-3fcc-4db2-c100-04672cd25c41"
      },
      "outputs": [
        {
          "data": {
            "text/plain": [
              "<matplotlib.collections.PathCollection at 0x7a935499ac80>"
            ]
          },
          "execution_count": 4,
          "metadata": {},
          "output_type": "execute_result"
        },
        {
          "data": {
            "image/png": "[encoded data removed]",
            "text/plain": [
              "<Figure size 640x480 with 1 Axes>"
            ]
          },
          "metadata": {},
          "output_type": "display_data"
        }
      ],
      "source": [
        "np.random.seed(0)\n",
        "\n",
        "x = np.linspace(0, 1, 100)\n",
        "y = x + np.random.normal(scale=0.1, size=x.shape)\n",
        "\n",
        "plt.scatter(x, y)"
      ]
    },
    {
      "cell_type": "markdown",
      "metadata": {
        "id": "PEM_-yKELAsl"
      },
      "source": [
        "W przeciwieństwie do laboratorium 1, tym razem będziemy chcieli rozwiązać ten problem własnoręcznie, bez użycia wysokopoziomowego interfejsu Scikit-learn'a. W tym celu musimy sobie przypomnieć sformułowanie naszego **problemu optymalizacyjnego (optimization problem)**.\n",
        "\n",
        "W przypadku prostej regresji liniowej (1 zmienna) mamy model postaci $\\hat{y} = \\alpha x + \\beta$, z dwoma parametrami, których będziemy się uczyć. Miarą niedopasowania modelu o danych parametrach jest **funkcja kosztu (cost function)**, nazywana też funkcją celu. Najczęściej używa się **błędu średniokwadratowego (mean squared error, MSE)**:\n",
        "$$\\large\n",
        "MSE = \\frac{1}{N} \\sum_{i}^{N} (y - \\hat{y})^2\n",
        "$$\n",
        "\n",
        "Od jakich $\\alpha$ i $\\beta$ zacząć? W najprostszym wypadku wystarczy po prostu je wylosować jako niewielkie liczby zmiennoprzecinkowe.\n",
        "\n",
        "#### Zadanie 1 (0.5 punkt)\n",
        "\n",
        "Uzupełnij kod funkcji `mse`, obliczającej błąd średniokwadratowy. Wykorzystaj Numpy'a w celu wektoryzacji obliczeń dla wydajności."
      ]
    },
    {
      "cell_type": "code",
      "execution_count": 5,
      "metadata": {
        "id": "RaA7Q46TLAsm"
      },
      "outputs": [],
      "source": [
        "def mse(y: np.ndarray, y_hat: np.ndarray) -> float:\n",
        "    # implement me!\n",
        "    # your_code\n",
        "    MSE = 0\n",
        "    for a,b in zip(y,y_hat):\n",
        "        MSE += np.power(a-b,2)\n",
        "\n",
        "    MSE = MSE / len(y)\n",
        "    return MSE\n"
      ]
    },
    {
      "cell_type": "code",
      "execution_count": 6,
      "metadata": {
        "colab": {
          "base_uri": "https://localhost:8080/",
          "height": 465
        },
        "id": "qSGfamGbLAsm",
        "outputId": "25530c86-5f04-4579-e32b-33f79c5c1a48"
      },
      "outputs": [
        {
          "name": "stdout",
          "output_type": "stream",
          "text": [
            "MSE: 0.133\n"
          ]
        },
        {
          "data": {
            "text/plain": [
              "[<matplotlib.lines.Line2D at 0x7a9340bd0970>]"
            ]
          },
          "execution_count": 6,
          "metadata": {},
          "output_type": "execute_result"
        },
        {
          "data": {
            "image/png": "[encoded data removed]",
            "text/plain": [
              "<Figure size 640x480 with 1 Axes>"
            ]
          },
          "metadata": {},
          "output_type": "display_data"
        }
      ],
      "source": [
        "a = np.random.rand()\n",
        "b = np.random.rand()\n",
        "print(f\"MSE: {mse(y, a * x + b):.3f}\")\n",
        "\n",
        "plt.scatter(x, y)\n",
        "plt.plot(x, a * x + b, color=\"g\", linewidth=4)"
      ]
    },
    {
      "cell_type": "markdown",
      "metadata": {
        "id": "Y--E9Mp9LAsn"
      },
      "source": [
        "Losowe parametry radzą sobie nie najlepiej. Jak lepiej dopasować naszą prostą do danych? Zawsze możemy starać się wyprowadzić rozwiązanie analitycznie, i w tym wypadku nawet nam się uda. Jest to jednak szczególny i dość rzadki przypadek, a w szczególności nie będzie to możliwe w większych sieciach neuronowych.\n",
        "\n",
        "Potrzebna nam będzie **metoda optymalizacji (optimization method)**, dającą wartości parametrów minimalizujące dowolną różniczkowalną funkcję kosztu. Zdecydowanie najpopularniejszy jest tutaj **spadek wzdłuż gradientu (gradient descent)**.\n",
        "\n",
        "Metoda ta wywodzi się z prostych obserwacji, które tutaj przedstawimy. Bardziej szczegółowe rozwinięcie dla zainteresowanych: [sekcja 4.3 \"Deep Learning Book\"](https://www.deeplearningbook.org/contents/numerical.html), [ten praktyczny kurs](https://cs231n.github.io/optimization-1/), [analiza oryginalnej publikacji Cauchy'ego](https://www.math.uni-bielefeld.de/documenta/vol-ismp/40_lemarechal-claude.pdf) (oryginał w języku francuskim).\n",
        "\n",
        "Pochodna jest dokładnie równa granicy funkcji. Dla małego $\\epsilon$ można ją przybliżyć jako:\n",
        "$$\\large\n",
        "\\frac{f(x)}{dx} \\approx \\frac{f(x+\\epsilon) - f(x)}{\\epsilon}\n",
        "$$\n",
        "\n",
        "Przyglądając się temu równaniu widzimy, że:\n",
        "* dla funkcji rosnącej ($f(x+\\epsilon) > f(x)$) wyrażenie $\\frac{f(x)}{dx}$ będzie miało znak dodatni\n",
        "* dla funkcji malejącej ($f(x+\\epsilon) < f(x)$) wyrażenie $\\frac{f(x)}{dx}$ będzie miało znak ujemny\n",
        "\n",
        "Widzimy więc, że potrafimy wskazać kierunek zmniejszenia wartości funkcji, patrząc na znak pochodnej. Zaobserwowano także, że amplituda wartości w $\\frac{f(x)}{dx}$ jest tym większa, im dalej jesteśmy od minimum (maximum). Pochodna wyznacza więc, w jakim kierunku funkcja najszybciej rośnie, zaś przeciwny zwrot to ten, w którym funkcja najszybciej spada.\n",
        "\n",
        "Stosując powyższe do optymalizacji, mamy:\n",
        "$$\\large\n",
        "x_{t+1} = x_{t} -  \\alpha * \\frac{f(x)}{dx}\n",
        "$$\n",
        "\n",
        "$\\alpha$ to niewielka wartość (rzędu zwykle $10^{-5}$ - $10^{-2}$), wprowadzona, aby trzymać się założenia o małej zmianie parametrów ($\\epsilon$). Nazywa się ją **stałą uczącą (learning rate)** i jest zwykle najważniejszym hiperparametrem podczas nauki sieci.\n",
        "\n",
        "Metoda ta zakłada, że używamy całego zbioru danych do aktualizacji parametrów w każdym kroku, co nazywa się po prostu GD (od *gradient descent*) albo *full batch GD*. Wtedy każdy krok optymalizacji nazywa się **epoką (epoch)**.\n",
        "\n",
        "Im większa stała ucząca, tym większe nasze kroki podczas minimalizacji. Możemy więc uczyć szybciej, ale istnieje ryzyko, że będziemy \"przeskakiwać\" minima. Mniejsza stała ucząca to wolniejszy, ale dokładniejszy trening. Jednak nie zawsze ona pozwala osiągnąć lepsze wyniki, bo może okazać się, że utkniemy w minimum lokalnym. Można także zmieniać stałą uczącą podczas treningu, co nazywa się **learning rate scheduling (LR scheduling)**. Obrazowo:\n",
        "\n",
        "![learning_rate](http://www.bdhammel.com/assets/learning-rate/lr-types.png)"
      ]
    },
    {
      "cell_type": "markdown",
      "metadata": {
        "id": "496qEjkVLAso"
      },
      "source": [
        "![interactive LR](http://cdn-images-1.medium.com/max/640/1*eeIvlwkMNG1wSmj3FR6M2g.gif)"
      ]
    },
    {
      "cell_type": "markdown",
      "metadata": {
        "id": "RYkyAHKzLAsp"
      },
      "source": [
        "Policzmy więc pochodną dla naszej funkcji kosztu MSE. Pochodną liczymy po parametrach naszego modelu, bo to właśnie ich chcemy dopasować tak, żeby koszt był jak najmniejszy:\n",
        "\n",
        "$$\\large\n",
        "MSE = \\frac{1}{N} \\sum_{i}^{N} (y_i - \\hat{y_i})^2\n",
        "$$\n",
        "\n",
        "W powyższym wzorze tylko $y_i$ jest zależny od $a$ oraz $b$. Możemy wykorzystać tu regułę łańcuchową (*chain rule*) i policzyć pochodne po naszych parametrach w sposób następujący:\n",
        "\n",
        "$$\\large\n",
        "\\frac{\\text{d} MSE}{\\text{d} a} = \\frac{1}{N} \\sum_{i}^{N} \\frac{\\text{d} (y_i - \\hat{y_i})^2}{\\text{d} \\hat{y_i}} \\frac{\\text{d} \\hat{y_i}}{\\text{d} a}\n",
        "$$\n",
        "\n",
        "$$\\large\n",
        "\\frac{\\text{d} MSE}{\\text{d} b} = \\frac{1}{N} \\sum_{i}^{N} \\frac{\\text{d} (y_i - \\hat{y_i})^2}{\\text{d} \\hat{y_i}} \\frac{\\text{d} \\hat{y_i}}{\\text{d} b}\n",
        "$$\n",
        "\n",
        "Policzmy te pochodne po kolei:\n",
        "\n",
        "$$\\large\n",
        "\\frac{\\text{d} (y_i - \\hat{y_i})^2}{\\text{d} \\hat{y_i}} = -2 \\cdot (y_i - \\hat{y_i})\n",
        "$$\n",
        "\n",
        "$$\\large\n",
        "\\frac{\\text{d} \\hat{y_i}}{\\text{d} a} = x_i\n",
        "$$\n",
        "\n",
        "$$\\large\n",
        "\\frac{\\text{d} \\hat{y_i}}{\\text{d} b} = 1\n",
        "$$\n",
        "\n",
        "Łącząc powyższe wyniki dostaniemy:\n",
        "\n",
        "$$\\large\n",
        "\\frac{\\text{d} MSE}{\\text{d} a} = \\frac{-2}{N} \\sum_{i}^{N} (y_i - \\hat{y_i}) \\cdot {x_i}\n",
        "$$\n",
        "\n",
        "$$\\large\n",
        "\\frac{\\text{d} MSE}{\\text{d} b} = \\frac{-2}{N} \\sum_{i}^{N} (y_i - \\hat{y_i})\n",
        "$$\n",
        "\n",
        "Aktualizacja parametrów wygląda tak:\n",
        "\n",
        "$$\\large\n",
        "a' = a - \\alpha * \\left( \\frac{-2}{N} \\sum_{i=1}^N (y_i - \\hat{y}_i) \\cdot x_i \\right)\n",
        "$$\n",
        "$$\\large\n",
        "b' = b - \\alpha * \\left( \\frac{-2}{N} \\sum_{i=1}^N (y_i - \\hat{y}_i) \\right)\n",
        "$$\n",
        "\n",
        "Liczymy więc pochodną funkcji kosztu, a potem za pomocą reguły łańcuchowej \"cofamy się\", dochodząc do tego, jak każdy z parametrów wpływa na błąd i w jaki sposób powinniśmy go zmienić. Nazywa się to **propagacją wsteczną (backpropagation)** i jest podstawowym mechanizmem umożliwiającym naukę sieci neuronowych za pomocą spadku wzdłuż gradientu. Więcej możesz o tym przeczytać [tutaj](https://cs231n.github.io/optimization-2/)."
      ]
    },
    {
      "cell_type": "markdown",
      "metadata": {
        "id": "YSIphHYp_nvC"
      },
      "source": [
        "\n",
        "#### Zadanie 2 (1.0 punkt)\n",
        "\n",
        "Zaimplementuj funkcję realizującą jedną epokę treningową. Zauważ, że `x` oraz `y` są wektorami. Oblicz predykcję przy aktualnych parametrach oraz zaktualizuj je zgodnie z powyższymi wzorami."
      ]
    },
    {
      "cell_type": "code",
      "execution_count": 7,
      "metadata": {
        "id": "4qbdWOSULAsp"
      },
      "outputs": [],
      "source": [
        "def optimize(\n",
        "    x: np.ndarray, y: np.ndarray, a: float, b: float, learning_rate: float = 0.1\n",
        "):\n",
        "    y_hat = a * x + b\n",
        "    errors = y - y_hat\n",
        "    # implement me!\n",
        "    # your_code\n",
        "\n",
        "    a_grad = -2 * np.mean(x*errors)\n",
        "    b_grad = -2 * np.mean(errors)\n",
        "\n",
        "    a = a - (learning_rate * a_grad)\n",
        "    b = b - (learning_rate * b_grad)\n",
        "\n",
        "    return a, b\n"
      ]
    },
    {
      "cell_type": "code",
      "execution_count": 8,
      "metadata": {
        "colab": {
          "base_uri": "https://localhost:8080/"
        },
        "id": "rxBDSiEp_nvC",
        "outputId": "856196b2-9741-4703-95eb-922a8c25ea4b"
      },
      "outputs": [
        {
          "name": "stdout",
          "output_type": "stream",
          "text": [
            "step 0 loss:  0.1330225119404028\n",
            "step 100 loss:  0.012673197778527674\n",
            "step 200 loss:  0.010257153540857815\n",
            "step 300 loss:  0.0100948037549359\n",
            "step 400 loss:  0.01008389441288912\n",
            "step 500 loss:  0.01008316134297333\n",
            "step 600 loss:  0.010083112083219707\n",
            "step 700 loss:  0.010083108773135263\n",
            "step 800 loss:  0.01008310855070908\n",
            "step 900 loss:  0.010083108535762813\n",
            "final loss: 0.01008310853476045\n"
          ]
        }
      ],
      "source": [
        "for i in range(1000):\n",
        "    loss = mse(y, a * x + b)\n",
        "    a, b = optimize(x, y, a, b)\n",
        "    if i % 100 == 0:\n",
        "        print(f\"step {i} loss: \", loss)\n",
        "\n",
        "print(\"final loss:\", loss)"
      ]
    },
    {
      "cell_type": "code",
      "execution_count": 9,
      "metadata": {
        "colab": {
          "base_uri": "https://localhost:8080/",
          "height": 447
        },
        "id": "xOgRcPC1LAsq",
        "outputId": "1abe4f16-6fe5-4283-c81c-21a7d488593a",
        "scrolled": false
      },
      "outputs": [
        {
          "data": {
            "text/plain": [
              "[<matplotlib.lines.Line2D at 0x7a9340bd1b70>]"
            ]
          },
          "execution_count": 9,
          "metadata": {},
          "output_type": "execute_result"
        },
        {
          "data": {
            "image/png": "[encoded data removed]",
            "text/plain": [
              "<Figure size 640x480 with 1 Axes>"
            ]
          },
          "metadata": {},
          "output_type": "display_data"
        }
      ],
      "source": [
        "plt.scatter(x, y)\n",
        "plt.plot(x, a * x + b, color=\"g\", linewidth=4)"
      ]
    },
    {
      "cell_type": "markdown",
      "metadata": {
        "id": "vOr2fWYpLAsq"
      },
      "source": [
        "Udało ci się wytrenować swoją pierwszą sieć neuronową. Czemu? Otóż neuron to po prostu wektor parametrów, a zwykle robimy iloczyn skalarny tych parametrów z wejściem. Dodatkowo na wyjście nakłada się **funkcję aktywacji (activation function)**, która przekształca wyjście. Tutaj takiej nie było, a właściwie była to po prostu funkcja identyczności.\n",
        "\n",
        "Oczywiście w praktyce korzystamy z odpowiedniego frameworka, który w szczególności:\n",
        "- ułatwia budowanie sieci, np. ma gotowe klasy dla warstw neuronów\n",
        "- ma zaimplementowane funkcje kosztu oraz ich pochodne\n",
        "- sam różniczkuje ze względu na odpowiednie parametry i aktualizuje je odpowiednio podczas treningu\n"
      ]
    },
    {
      "cell_type": "markdown",
      "metadata": {
        "id": "NJBYJabuLAsr"
      },
      "source": [
        "## Wprowadzenie do PyTorcha"
      ]
    },
    {
      "cell_type": "markdown",
      "metadata": {
        "id": "EB-99XqhLAsr"
      },
      "source": [
        "PyTorch to w gruncie rzeczy narzędzie do algebry liniowej z [automatycznym rożniczkowaniem](https://pytorch.org/tutorials/beginner/blitz/autograd_tutorial.html), z możliwością przyspieszenia obliczeń z pomocą GPU. Na tych fundamentach zbudowany jest pełny framework do uczenia głębokiego. Można spotkać się ze stwierdzenie, że PyTorch to NumPy + GPU + opcjonalne różniczkowanie, co jest całkiem celne. Plus można łatwo debugować printem :)\n",
        "\n",
        "PyTorch używa dynamicznego grafu obliczeń, który sami definiujemy w kodzie. Takie podejście jest bardzo wygodne, elastyczne i pozwala na łatwe eksperymentowanie. Odbywa się to potencjalnie kosztem wydajności, ponieważ pozostawia kwestię optymalizacji programiście. Więcej na ten temat dla zainteresowanych na końcu laboratorium.\n",
        "\n",
        "Samo API PyTorcha bardzo przypomina Numpy'a, a podstawowym obiektem jest `Tensor`, klasa reprezentująca tensory dowolnego wymiaru. Dodatkowo niektóre tensory będą miały automatycznie obliczony gradient. Co ważne, tensor jest na pewnym urządzeniu, CPU lub GPU, a przenosić między nimi trzeba explicite.\n",
        "\n",
        "Najważniejsze moduły:\n",
        "- `torch` - podstawowe klasy oraz funkcje, np. `Tensor`, `from_numpy()`\n",
        "- `torch.nn` - klasy związane z sieciami neuronowymi, np. `Linear`, `Sigmoid`\n",
        "- `torch.optim` - wszystko związane z optymalizacją, głównie spadkiem wzdłuż gradientu"
      ]
    },
    {
      "cell_type": "code",
      "execution_count": 10,
      "metadata": {
        "id": "FwuIt8S-LAss"
      },
      "outputs": [],
      "source": [
        "import torch\n",
        "import torch.nn as nn\n",
        "import torch.optim as optim"
      ]
    },
    {
      "cell_type": "code",
      "execution_count": 11,
      "metadata": {
        "colab": {
          "base_uri": "https://localhost:8080/"
        },
        "id": "bfCiUFXULAss",
        "outputId": "cae0e0b6-c66c-44d2-8edc-cea254107868"
      },
      "outputs": [
        {
          "name": "stdout",
          "output_type": "stream",
          "text": [
            "tensor([1.5308, 1.4325, 1.9033, 1.9941, 1.9406, 1.7088, 1.9890, 1.2760, 1.3821,\n",
            "        1.2438])\n",
            "tensor([0.5308, 0.4325, 0.9033, 0.9941, 0.9406, 0.7088, 0.9890, 0.2760, 0.3821,\n",
            "        0.2438])\n",
            "tensor(6.4010)\n"
          ]
        }
      ],
      "source": [
        "ones = torch.ones(10)\n",
        "noise = torch.ones(10) * torch.rand(10)\n",
        "\n",
        "# elementwise sum\n",
        "print(ones + noise)\n",
        "\n",
        "# elementwise multiplication\n",
        "print(ones * noise)\n",
        "\n",
        "# dot product\n",
        "print(ones @ noise)"
      ]
    },
    {
      "cell_type": "code",
      "execution_count": 12,
      "metadata": {
        "id": "ynNd_kD0LAst"
      },
      "outputs": [],
      "source": [
        "# beware - shares memory with original Numpy array!\n",
        "# very fast, but modifications are visible to original variable\n",
        "x = torch.from_numpy(x)\n",
        "y = torch.from_numpy(y)"
      ]
    },
    {
      "cell_type": "markdown",
      "metadata": {
        "id": "W9kkxczELAsu"
      },
      "source": [
        "Jeżeli dla stworzonych przez nas tensorów chcemy śledzić operacje i obliczać gradient, to musimy oznaczyć `requires_grad=True`."
      ]
    },
    {
      "cell_type": "code",
      "execution_count": 13,
      "metadata": {
        "colab": {
          "base_uri": "https://localhost:8080/"
        },
        "id": "8HtZL-KfLAsu",
        "outputId": "763d91db-90ac-4729-9e77-6d83173e58ec"
      },
      "outputs": [
        {
          "data": {
            "text/plain": [
              "(tensor([0.2703], requires_grad=True), tensor([0.5852], requires_grad=True))"
            ]
          },
          "execution_count": 13,
          "metadata": {},
          "output_type": "execute_result"
        }
      ],
      "source": [
        "a = torch.rand(1, requires_grad=True)\n",
        "b = torch.rand(1, requires_grad=True)\n",
        "a, b"
      ]
    },
    {
      "cell_type": "markdown",
      "metadata": {
        "id": "Nl1guWZ_LAsv"
      },
      "source": [
        "PyTorch zawiera większość powszechnie używanych funkcji kosztu, np. MSE. Mogą być one używane na 2 sposoby, z czego pierwszy jest popularniejszy:\n",
        "- jako klasy wywoływalne z modułu `torch.nn`\n",
        "- jako funkcje z modułu `torch.nn.functional`\n",
        "\n",
        "Po wykonaniu poniższego kodu widzimy, że zwraca on nam tensor z dodatkowymi atrybutami. Co ważne, jest to skalar (0-wymiarowy tensor), bo potrzebujemy zwyczajnej liczby do obliczania propagacji wstecznych (pochodnych czątkowych)."
      ]
    },
    {
      "cell_type": "code",
      "execution_count": 14,
      "metadata": {
        "colab": {
          "base_uri": "https://localhost:8080/"
        },
        "id": "I9tqvOeP_nvD",
        "outputId": "18721b31-92ca-441a-821d-abe84c3d4a4d"
      },
      "outputs": [
        {
          "data": {
            "text/plain": [
              "tensor(0.0977, dtype=torch.float64, grad_fn=<MseLossBackward0>)"
            ]
          },
          "execution_count": 14,
          "metadata": {},
          "output_type": "execute_result"
        }
      ],
      "source": [
        "mse = nn.MSELoss()\n",
        "mse(y, a * x + b)"
      ]
    },
    {
      "cell_type": "markdown",
      "metadata": {
        "id": "vS35r49nLAsw"
      },
      "source": [
        "Atrybutu `grad_fn` nie używamy wprost, bo korzysta z niego w środku PyTorch, ale widać, że tensor jest \"świadomy\", że liczy się na nim pochodną. Możemy natomiast skorzystać z atrybutu `grad`, który zawiera faktyczny gradient. Zanim go jednak dostaniemy, to trzeba powiedzieć PyTorchowi, żeby policzył gradient. Służy do tego metoda `.backward()`, wywoływana na obiekcie zwracanym przez funkcję kosztu."
      ]
    },
    {
      "cell_type": "code",
      "execution_count": 15,
      "metadata": {
        "id": "Qb7l6Xg1LAsx"
      },
      "outputs": [],
      "source": [
        "loss = mse(y, a * x + b)\n",
        "loss.backward()"
      ]
    },
    {
      "cell_type": "code",
      "execution_count": 16,
      "metadata": {
        "colab": {
          "base_uri": "https://localhost:8080/"
        },
        "id": "6LfQbLVoLAsx",
        "outputId": "0e29a442-5351-437a-835a-485f4efb7098"
      },
      "outputs": [
        {
          "name": "stdout",
          "output_type": "stream",
          "text": [
            "tensor([0.0953])\n"
          ]
        }
      ],
      "source": [
        "print(a.grad)"
      ]
    },
    {
      "cell_type": "markdown",
      "metadata": {
        "id": "Kdf1iweELAsy"
      },
      "source": [
        "Ważne jest, że PyTorch nie liczy za każdym razem nowego gradientu, tylko dodaje go do istniejącego, czyli go akumuluje. Jest to przydatne w niektórych sieciach neuronowych, ale zazwyczaj trzeba go zerować. Jeżeli tego nie zrobimy, to dostaniemy coraz większe gradienty.\n",
        "\n",
        "Do zerowania służy metoda `.zero_()`. W PyTorchu wszystkie metody modyfikujące tensor w miejscu mają `_` na końcu nazwy. Jest to dość niskopoziomowa operacja dla pojedynczych tensorów - zobaczymy za chwilę, jak to robić łatwiej dla całej sieci."
      ]
    },
    {
      "cell_type": "code",
      "execution_count": 17,
      "metadata": {
        "colab": {
          "base_uri": "https://localhost:8080/"
        },
        "id": "DiCQZKJsLAsy",
        "outputId": "f6cede74-90be-4403-b7a1-8d370abd9c31"
      },
      "outputs": [
        {
          "data": {
            "text/plain": [
              "tensor([0.1906])"
            ]
          },
          "execution_count": 17,
          "metadata": {},
          "output_type": "execute_result"
        }
      ],
      "source": [
        "loss = mse(y, a * x + b)\n",
        "loss.backward()\n",
        "a.grad"
      ]
    },
    {
      "cell_type": "markdown",
      "metadata": {
        "id": "xNC3Ag8uLAsz"
      },
      "source": [
        "Zobaczmy, jak wyglądałaby regresja liniowa, ale napisana w PyTorchu. Jest to oczywiście bardzo niskopoziomowa implementacja - za chwilę zobaczymy, jak to wygląda w praktyce."
      ]
    },
    {
      "cell_type": "code",
      "execution_count": 18,
      "metadata": {
        "colab": {
          "base_uri": "https://localhost:8080/"
        },
        "id": "AKnxyeboLAsz",
        "outputId": "6bafeadd-318e-4b2f-a1b6-b6e2eae0e211"
      },
      "outputs": [
        {
          "name": "stdout",
          "output_type": "stream",
          "text": [
            "step 0 loss:  tensor(0.0977, dtype=torch.float64, grad_fn=<MseLossBackward0>)\n",
            "step 100 loss:  tensor(0.0134, dtype=torch.float64, grad_fn=<MseLossBackward0>)\n",
            "step 200 loss:  tensor(0.0103, dtype=torch.float64, grad_fn=<MseLossBackward0>)\n",
            "step 300 loss:  tensor(0.0101, dtype=torch.float64, grad_fn=<MseLossBackward0>)\n",
            "step 400 loss:  tensor(0.0101, dtype=torch.float64, grad_fn=<MseLossBackward0>)\n",
            "step 500 loss:  tensor(0.0101, dtype=torch.float64, grad_fn=<MseLossBackward0>)\n",
            "step 600 loss:  tensor(0.0101, dtype=torch.float64, grad_fn=<MseLossBackward0>)\n",
            "step 700 loss:  tensor(0.0101, dtype=torch.float64, grad_fn=<MseLossBackward0>)\n",
            "step 800 loss:  tensor(0.0101, dtype=torch.float64, grad_fn=<MseLossBackward0>)\n",
            "step 900 loss:  tensor(0.0101, dtype=torch.float64, grad_fn=<MseLossBackward0>)\n",
            "final loss: tensor(0.0101, dtype=torch.float64, grad_fn=<MseLossBackward0>)\n"
          ]
        }
      ],
      "source": [
        "learning_rate = 0.1\n",
        "for i in range(1000):\n",
        "    loss = mse(y, a * x + b)\n",
        "\n",
        "    # compute gradients\n",
        "    loss.backward()\n",
        "\n",
        "    # update parameters\n",
        "    a.data -= learning_rate * a.grad\n",
        "    b.data -= learning_rate * b.grad\n",
        "\n",
        "    # zero gradients\n",
        "    a.grad.data.zero_()\n",
        "    b.grad.data.zero_()\n",
        "\n",
        "    if i % 100 == 0:\n",
        "        print(f\"step {i} loss: \", loss)\n",
        "\n",
        "print(\"final loss:\", loss)"
      ]
    },
    {
      "cell_type": "markdown",
      "metadata": {
        "id": "2DXNVhshmmI-"
      },
      "source": [
        "Trening modeli w PyTorchu jest dosyć schematyczny i najczęściej rozdziela się go na kilka bloków, dających razem **pętlę uczącą (training loop)**, powtarzaną w każdej epoce:\n",
        "1. Forward pass - obliczenie predykcji sieci\n",
        "2. Loss calculation\n",
        "3. Backpropagation - obliczenie pochodnych oraz zerowanie gradientów\n",
        "4. Optimalization - aktualizacja wag\n",
        "5. Other - ewaluacja na zbiorze walidacyjnym, logging etc."
      ]
    },
    {
      "cell_type": "code",
      "execution_count": 19,
      "metadata": {
        "colab": {
          "base_uri": "https://localhost:8080/"
        },
        "id": "2etpw7TNLAs0",
        "outputId": "9aa6fcbb-fca6-4b5f-f08a-0c733261a09b",
        "scrolled": true
      },
      "outputs": [
        {
          "name": "stdout",
          "output_type": "stream",
          "text": [
            "step 0 loss: 0.0609\n",
            "step 100 loss: 0.0131\n",
            "step 200 loss: 0.0103\n",
            "step 300 loss: 0.0101\n",
            "step 400 loss: 0.0101\n",
            "step 500 loss: 0.0101\n",
            "step 600 loss: 0.0101\n",
            "step 700 loss: 0.0101\n",
            "step 800 loss: 0.0101\n",
            "step 900 loss: 0.0101\n",
            "final loss: tensor(0.0101, dtype=torch.float64, grad_fn=<MseLossBackward0>)\n"
          ]
        }
      ],
      "source": [
        "# initialization\n",
        "learning_rate = 0.1\n",
        "a = torch.rand(1, requires_grad=True)\n",
        "b = torch.rand(1, requires_grad=True)\n",
        "optimizer = torch.optim.SGD([a, b], lr=learning_rate)\n",
        "best_loss = float(\"inf\")\n",
        "\n",
        "# training loop in each epoch\n",
        "for i in range(1000):\n",
        "    # forward pass\n",
        "    y_hat = a * x + b\n",
        "\n",
        "    # loss calculation\n",
        "    loss = mse(y, y_hat)\n",
        "\n",
        "    # backpropagation\n",
        "    loss.backward()\n",
        "\n",
        "    # optimization\n",
        "    optimizer.step()\n",
        "    optimizer.zero_grad()  # zeroes all gradients - very convenient!\n",
        "\n",
        "    if i % 100 == 0:\n",
        "        if loss < best_loss:\n",
        "            best_model = (a.clone(), b.clone())\n",
        "            best_loss = loss\n",
        "        print(f\"step {i} loss: {loss.item():.4f}\")\n",
        "\n",
        "print(\"final loss:\", loss)"
      ]
    },
    {
      "cell_type": "markdown",
      "metadata": {
        "id": "b-mubvDk_nvE"
      },
      "source": [
        "Przejdziemy teraz do budowy sieci neuronowej do klasyfikacji. Typowo implementuje się ją po prostu jako sieć dla regresji, ale zwracającą tyle wyników, ile mamy klas, a potem aplikuje się na tym funkcję sigmoidalną (2 klasy) lub softmax (>2 klasy). W przypadku klasyfikacji binarnej zwraca się czasem tylko 1 wartość, przepuszczaną przez sigmoidę - wtedy wyjście z sieci to prawdopodobieństwo klasy pozytywnej.\n",
        "\n",
        "Funkcją kosztu zwykle jest **entropia krzyżowa (cross-entropy)**, stosowana też w klasycznej regresji logistycznej. Co ważne, sieci neuronowe, nawet tak proste, uczą się szybciej i stabilniej, gdy dane na wejściu (a przynajmniej zmienne numeryczne) są **ustandaryzowane (standardized)**. Operacja ta polega na odjęciu średniej i podzieleniu przez odchylenie standardowe (tzw. *Z-score transformation*).\n",
        "\n",
        "**Uwaga - PyTorch wymaga tensora klas będącego liczbami zmiennoprzecinkowymi!**"
      ]
    },
    {
      "cell_type": "markdown",
      "metadata": {
        "id": "4SyCeXZX_nvE"
      },
      "source": [
        "## Zbiór danych"
      ]
    },
    {
      "cell_type": "markdown",
      "metadata": {
        "id": "Upgg0-rz_nvM"
      },
      "source": [
        "Na tym laboratorium wykorzystamy zbiór [Adult Census](https://archive.ics.uci.edu/ml/datasets/adult). Dotyczy on przewidywania na podstawie danych demograficznych, czy dany człowiek zarabia powyżej 50 tysięcy dolarów rocznie, czy też mniej. Jest to cenna informacja np. przy planowaniu kampanii marketingowych. Jak możesz się domyślić, zbiór pochodzi z czasów, kiedy inflacja była dużo niższa :)\n",
        "\n",
        "Poniżej znajduje się kod do ściągnięcia i preprocessingu zbioru. Nie musisz go dokładnie analizować."
      ]
    },
    {
      "cell_type": "code",
      "execution_count": 20,
      "metadata": {
        "colab": {
          "base_uri": "https://localhost:8080/"
        },
        "id": "4DNsaZAnLAs0",
        "outputId": "1fb6634b-6df5-427b-850d-bdb1ea3374af",
        "scrolled": true
      },
      "outputs": [
        {
          "name": "stdout",
          "output_type": "stream",
          "text": [
            "--2023-11-29 16:26:49--  https://archive.ics.uci.edu/ml/machine-learning-databases/adult/adult.data\n",
            "Resolving archive.ics.uci.edu (archive.ics.uci.edu)... 128.195.10.252\n",
            "Connecting to archive.ics.uci.edu (archive.ics.uci.edu)|128.195.10.252|:443... connected.\n",
            "HTTP request sent, awaiting response... 200 OK\n",
            "Length: unspecified\n",
            "Saving to: ‘adult.data’\n",
            "\n",
            "adult.data              [  <=>               ]   3.79M  9.04MB/s    in 0.4s    \n",
            "\n",
            "2023-11-29 16:26:50 (9.04 MB/s) - ‘adult.data’ saved [3974305]\n",
            "\n"
          ]
        }
      ],
      "source": [
        "!wget https://archive.ics.uci.edu/ml/machine-learning-databases/adult/adult.data"
      ]
    },
    {
      "cell_type": "code",
      "execution_count": 21,
      "metadata": {
        "colab": {
          "base_uri": "https://localhost:8080/"
        },
        "id": "6E0TMfKa_nvN",
        "outputId": "532011ab-113b-486d-d752-c5343743f4d0"
      },
      "outputs": [
        {
          "data": {
            "text/plain": [
              "array([' <=50K', ' >50K'], dtype=object)"
            ]
          },
          "execution_count": 21,
          "metadata": {},
          "output_type": "execute_result"
        }
      ],
      "source": [
        "import pandas as pd\n",
        "\n",
        "\n",
        "columns = [\n",
        "    \"age\",\n",
        "    \"workclass\",\n",
        "    \"fnlwgt\",\n",
        "    \"education\",\n",
        "    \"education-num\",\n",
        "    \"marital-status\",\n",
        "    \"occupation\",\n",
        "    \"relationship\",\n",
        "    \"race\",\n",
        "    \"sex\",\n",
        "    \"capital-gain\",\n",
        "    \"capital-loss\",\n",
        "    \"hours-per-week\",\n",
        "    \"native-country\",\n",
        "    \"wage\"\n",
        "]\n",
        "\n",
        "\"\"\"\n",
        "age: continuous.\n",
        "workclass: Private, Self-emp-not-inc, Self-emp-inc, Federal-gov, Local-gov, State-gov, Without-pay, Never-worked.\n",
        "fnlwgt: continuous.\n",
        "education: Bachelors, Some-college, 11th, HS-grad, Prof-school, Assoc-acdm, Assoc-voc, 9th, 7th-8th, 12th, Masters, 1st-4th, 10th, Doctorate, 5th-6th, Preschool.\n",
        "education-num: continuous.\n",
        "marital-status: Married-civ-spouse, Divorced, Never-married, Separated, Widowed, Married-spouse-absent, Married-AF-spouse.\n",
        "occupation: Tech-support, Craft-repair, Other-service, Sales, Exec-managerial, Prof-specialty, Handlers-cleaners, Machine-op-inspct, Adm-clerical, Farming-fishing, Transport-moving, Priv-house-serv, Protective-serv, Armed-Forces.\n",
        "relationship: Wife, Own-child, Husband, Not-in-family, Other-relative, Unmarried.\n",
        "race: White, Asian-Pac-Islander, Amer-Indian-Eskimo, Other, Black.\n",
        "sex: Female, Male.\n",
        "capital-gain: continuous.\n",
        "capital-loss: continuous.\n",
        "hours-per-week: continuous.\n",
        "native-country: United-States, Cambodia, England, Puerto-Rico, Canada, Germany, Outlying-US(Guam-USVI-etc), India, Japan, Greece, South, China, Cuba, Iran, Honduras, Philippines, Italy, Poland, Jamaica, Vietnam, Mexico, Portugal, Ireland, France, Dominican-Republic, Laos, Ecuador, Taiwan, Haiti, Columbia, Hungary, Guatemala, Nicaragua, Scotland, Thailand, Yugoslavia, El-Salvador, Trinadad&Tobago, Peru, Hong, Holand-Netherlands.\n",
        "\"\"\"\n",
        "\n",
        "df = pd.read_csv(\"adult.data\", header=None, names=columns)\n",
        "df.wage.unique()"
      ]
    },
    {
      "cell_type": "code",
      "execution_count": 22,
      "metadata": {
        "id": "5Ur4HNw__nvN"
      },
      "outputs": [],
      "source": [
        "# attribution: https://www.kaggle.com/code/royshih23/topic7-classification-in-python\n",
        "df['education'].replace('Preschool', 'dropout',inplace=True)\n",
        "df['education'].replace('10th', 'dropout',inplace=True)\n",
        "df['education'].replace('11th', 'dropout',inplace=True)\n",
        "df['education'].replace('12th', 'dropout',inplace=True)\n",
        "df['education'].replace('1st-4th', 'dropout',inplace=True)\n",
        "df['education'].replace('5th-6th', 'dropout',inplace=True)\n",
        "df['education'].replace('7th-8th', 'dropout',inplace=True)\n",
        "df['education'].replace('9th', 'dropout',inplace=True)\n",
        "df['education'].replace('HS-Grad', 'HighGrad',inplace=True)\n",
        "df['education'].replace('HS-grad', 'HighGrad',inplace=True)\n",
        "df['education'].replace('Some-college', 'CommunityCollege',inplace=True)\n",
        "df['education'].replace('Assoc-acdm', 'CommunityCollege',inplace=True)\n",
        "df['education'].replace('Assoc-voc', 'CommunityCollege',inplace=True)\n",
        "df['education'].replace('Bachelors', 'Bachelors',inplace=True)\n",
        "df['education'].replace('Masters', 'Masters',inplace=True)\n",
        "df['education'].replace('Prof-school', 'Masters',inplace=True)\n",
        "df['education'].replace('Doctorate', 'Doctorate',inplace=True)\n",
        "\n",
        "df['marital-status'].replace('Never-married', 'NotMarried',inplace=True)\n",
        "df['marital-status'].replace(['Married-AF-spouse'], 'Married',inplace=True)\n",
        "df['marital-status'].replace(['Married-civ-spouse'], 'Married',inplace=True)\n",
        "df['marital-status'].replace(['Married-spouse-absent'], 'NotMarried',inplace=True)\n",
        "df['marital-status'].replace(['Separated'], 'Separated',inplace=True)\n",
        "df['marital-status'].replace(['Divorced'], 'Separated',inplace=True)\n",
        "df['marital-status'].replace(['Widowed'], 'Widowed',inplace=True)"
      ]
    },
    {
      "cell_type": "code",
      "execution_count": 23,
      "metadata": {
        "colab": {
          "base_uri": "https://localhost:8080/"
        },
        "id": "LiOxs_6mLAs1",
        "outputId": "9445c34d-ba78-4b2e-d116-9b1acd2d25a1",
        "scrolled": true
      },
      "outputs": [
        {
          "name": "stderr",
          "output_type": "stream",
          "text": [
            "/usr/local/lib/python3.10/dist-packages/sklearn/preprocessing/_encoders.py:868: FutureWarning: `sparse` was renamed to `sparse_output` in version 1.2 and will be removed in 1.4. `sparse_output` is ignored unless you leave `sparse` to its default value.\n",
            "  warnings.warn(\n"
          ]
        },
        {
          "data": {
            "text/plain": [
              "((20838, 108), (20838,))"
            ]
          },
          "execution_count": 23,
          "metadata": {},
          "output_type": "execute_result"
        }
      ],
      "source": [
        "from sklearn.model_selection import train_test_split\n",
        "from sklearn.preprocessing import MinMaxScaler, OneHotEncoder, StandardScaler\n",
        "\n",
        "\n",
        "X = df.copy()\n",
        "y = (X.pop(\"wage\") == ' >50K').astype(int).values\n",
        "\n",
        "train_valid_size = 0.2\n",
        "\n",
        "X_train, X_test, y_train, y_test = train_test_split(\n",
        "    X, y,\n",
        "    test_size=train_valid_size,\n",
        "    random_state=0,\n",
        "    shuffle=True,\n",
        "    stratify=y\n",
        ")\n",
        "X_train, X_valid, y_train, y_valid = train_test_split(\n",
        "    X_train, y_train,\n",
        "    test_size=train_valid_size,\n",
        "    random_state=0,\n",
        "    shuffle=True,\n",
        "    stratify=y_train\n",
        ")\n",
        "\n",
        "continuous_cols = ['age', 'fnlwgt', 'education-num', 'capital-gain', 'capital-loss', 'hours-per-week']\n",
        "continuous_X_train = X_train[continuous_cols]\n",
        "categorical_X_train = X_train.loc[:, ~X_train.columns.isin(continuous_cols)]\n",
        "\n",
        "continuous_X_valid = X_valid[continuous_cols]\n",
        "categorical_X_valid = X_valid.loc[:, ~X_valid.columns.isin(continuous_cols)]\n",
        "\n",
        "continuous_X_test = X_test[continuous_cols]\n",
        "categorical_X_test = X_test.loc[:, ~X_test.columns.isin(continuous_cols)]\n",
        "\n",
        "categorical_encoder = OneHotEncoder(sparse=False, handle_unknown='ignore')\n",
        "continuous_scaler = StandardScaler() #MinMaxScaler(feature_range=(-1, 1))\n",
        "\n",
        "categorical_encoder.fit(categorical_X_train)\n",
        "continuous_scaler.fit(continuous_X_train)\n",
        "\n",
        "continuous_X_train = continuous_scaler.transform(continuous_X_train)\n",
        "continuous_X_valid = continuous_scaler.transform(continuous_X_valid)\n",
        "continuous_X_test = continuous_scaler.transform(continuous_X_test)\n",
        "\n",
        "categorical_X_train = categorical_encoder.transform(categorical_X_train)\n",
        "categorical_X_valid = categorical_encoder.transform(categorical_X_valid)\n",
        "categorical_X_test = categorical_encoder.transform(categorical_X_test)\n",
        "\n",
        "X_train = np.concatenate([continuous_X_train, categorical_X_train], axis=1)\n",
        "X_valid = np.concatenate([continuous_X_valid, categorical_X_valid], axis=1)\n",
        "X_test = np.concatenate([continuous_X_test, categorical_X_test], axis=1)\n",
        "\n",
        "X_train.shape, y_train.shape"
      ]
    },
    {
      "cell_type": "markdown",
      "metadata": {
        "id": "jABwMDyK_nvN"
      },
      "source": [
        "Uwaga co do typów - PyTorchu wszystko w sieci neuronowej musi być typu `float32`. W szczególności trzeba uważać na konwersje z Numpy'a, który używa domyślnie typu `float64`. Może ci się przydać metoda `.float()`.\n",
        "\n",
        "Uwaga co do kształtów wyjścia - wejścia do `nn.BCELoss` muszą być tego samego kształtu. Może ci się przydać metoda `.squeeze()` lub `.unsqueeze()`."
      ]
    },
    {
      "cell_type": "code",
      "execution_count": 24,
      "metadata": {
        "id": "qfRA3xEoLAs1"
      },
      "outputs": [],
      "source": [
        "X_train = torch.from_numpy(X_train).float()\n",
        "y_train = torch.from_numpy(y_train).float().unsqueeze(-1)\n",
        "\n",
        "X_valid = torch.from_numpy(X_valid).float()\n",
        "y_valid = torch.from_numpy(y_valid).float().unsqueeze(-1)\n",
        "\n",
        "X_test = torch.from_numpy(X_test).float()\n",
        "y_test = torch.from_numpy(y_test).float().unsqueeze(-1)"
      ]
    },
    {
      "cell_type": "markdown",
      "metadata": {
        "id": "WFBRUBGA_nvN"
      },
      "source": [
        "Podobnie jak w laboratorium 2, mamy tu do czynienia z klasyfikacją niezbalansowaną:"
      ]
    },
    {
      "cell_type": "code",
      "execution_count": 25,
      "metadata": {
        "colab": {
          "base_uri": "https://localhost:8080/",
          "height": 452
        },
        "id": "hYZq_U76_nvN",
        "outputId": "a58cad19-d708-460d-b42f-a41ba458f68d"
      },
      "outputs": [
        {
          "data": {
            "image/png": "[encoded data removed]",
            "text/plain": [
              "<Figure size 640x480 with 1 Axes>"
            ]
          },
          "metadata": {},
          "output_type": "display_data"
        }
      ],
      "source": [
        "import matplotlib.pyplot as plt\n",
        "\n",
        "y_pos_perc = 100 * y_train.sum().item() / len(y_train)\n",
        "y_neg_perc = 100 - y_pos_perc\n",
        "\n",
        "plt.title(\"Class percentages\")\n",
        "plt.bar([\"<50k\", \">=50k\"], [y_neg_perc, y_pos_perc])\n",
        "plt.show()"
      ]
    },
    {
      "cell_type": "markdown",
      "metadata": {
        "id": "4NheaaOI_nvN"
      },
      "source": [
        "W związku z powyższym będziemy używać odpowiednich metryk, czyli AUROC, precyzji i czułości."
      ]
    },
    {
      "cell_type": "markdown",
      "metadata": {
        "id": "XLexWff-LAs0"
      },
      "source": [
        "#### Zadanie 3 (1.0 punkt)\n",
        "\n",
        "Zaimplementuj regresję logistyczną dla tego zbioru danych, używając PyTorcha. Dane wejściowe zostały dla ciebie przygotowane w komórkach poniżej.\n",
        "\n",
        "Sama sieć składa się z 2 elementów:\n",
        "- warstwa liniowa `nn.Linear`, przekształcająca wektor wejściowy na 1 wyjście - logit\n",
        "- aktywacja sigmoidalna `nn.Sigmoid`, przekształcająca logit na prawdopodobieństwo klasy pozytywnej\n",
        "\n",
        "Użyj binarnej entropii krzyżowej `nn.BCELoss` jako funkcji kosztu. Użyj optymalizatora SGD ze stałą uczącą `1e-3`. Trenuj przez 3000 epok. Pamiętaj, aby przekazać do optymalizatora `torch.optim.SGD` parametry sieci (metoda `.parameters()`). Dopisz logowanie kosztu raz na 100 epok."
      ]
    },
    {
      "cell_type": "code",
      "execution_count": 28,
      "metadata": {
        "colab": {
          "base_uri": "https://localhost:8080/"
        },
        "id": "NbABKz5-LAs2",
        "outputId": "0869cfda-368a-49c3-9b3a-32ed70450b82",
        "scrolled": true
      },
      "outputs": [
        {
          "name": "stdout",
          "output_type": "stream",
          "text": [
            "Epoch 0, Loss: 0.7084\n",
            "Epoch 100, Loss: 0.6757\n",
            "Epoch 200, Loss: 0.6483\n",
            "Epoch 300, Loss: 0.6251\n",
            "Epoch 400, Loss: 0.6054\n",
            "Epoch 500, Loss: 0.5885\n",
            "Epoch 600, Loss: 0.5738\n",
            "Epoch 700, Loss: 0.5610\n",
            "Epoch 800, Loss: 0.5497\n",
            "Epoch 900, Loss: 0.5397\n",
            "Epoch 1000, Loss: 0.5307\n",
            "Epoch 1100, Loss: 0.5226\n",
            "Epoch 1200, Loss: 0.5152\n",
            "Epoch 1300, Loss: 0.5085\n",
            "Epoch 1400, Loss: 0.5023\n",
            "Epoch 1500, Loss: 0.4966\n",
            "Epoch 1600, Loss: 0.4913\n",
            "Epoch 1700, Loss: 0.4864\n",
            "Epoch 1800, Loss: 0.4818\n",
            "Epoch 1900, Loss: 0.4775\n",
            "Epoch 2000, Loss: 0.4735\n",
            "Epoch 2100, Loss: 0.4696\n",
            "Epoch 2200, Loss: 0.4660\n",
            "Epoch 2300, Loss: 0.4626\n",
            "Epoch 2400, Loss: 0.4594\n",
            "Epoch 2500, Loss: 0.4563\n",
            "Epoch 2600, Loss: 0.4533\n",
            "Epoch 2700, Loss: 0.4505\n",
            "Epoch 2800, Loss: 0.4479\n",
            "Epoch 2900, Loss: 0.4453\n",
            "Final loss: tensor(0.4429, grad_fn=<BinaryCrossEntropyBackward0>)\n"
          ]
        }
      ],
      "source": [
        "learning_rate = 1e-3\n",
        "\n",
        "\n",
        "# implement me!\n",
        "# your_code\n",
        "\n",
        "\n",
        "model = nn.Linear(X_train.size(1), 1)\n",
        "activation = nn.Sigmoid()\n",
        "optimizer = optim.SGD(model.parameters(), lr=learning_rate)\n",
        "loss_fn = nn.BCELoss()\n",
        "\n",
        "epochs = 3000\n",
        "for epoch in range(epochs):\n",
        "    y_pred = activation(model(X_train))\n",
        "\n",
        "    loss = loss_fn(y_pred, y_train)\n",
        "\n",
        "    loss.backward()\n",
        "    optimizer.step()\n",
        "    optimizer.zero_grad()\n",
        "\n",
        "    if epoch % 100 == 0:\n",
        "        print(f'Epoch {epoch}, Loss: {loss.item():.4f}')\n",
        "\n",
        "print(\"Final loss:\", loss)\n"
      ]
    },
    {
      "cell_type": "markdown",
      "metadata": {
        "id": "obSRiE8N_nvO"
      },
      "source": [
        "Teraz trzeba sprawdzić, jak poszło naszej sieci. W PyTorchu sieć pracuje zawsze w jednym z dwóch trybów: treningowym lub ewaluacyjnym (predykcyjnym). Ten drugi wyłącza niektóre mechanizmy, które są używane tylko podczas treningu, w szczególności regularyzację dropout. Do przełączania służą metody modelu `.train()` i `.eval()`.\n",
        "\n",
        "Dodatkowo podczas liczenia predykcji dobrze jest wyłączyć liczenie gradientów, bo nie będą potrzebne, a oszczędza to czas i pamięć. Używa się do tego menadżera kontekstu `with torch.no_grad():`."
      ]
    },
    {
      "cell_type": "code",
      "execution_count": null,
      "metadata": {
        "colab": {
          "base_uri": "https://localhost:8080/"
        },
        "id": "zH37zDX4LAs2",
        "outputId": "32fa3901-3355-4c61-e89c-3269b3f49ec4",
        "scrolled": true
      },
      "outputs": [
        {
          "name": "stdout",
          "output_type": "stream",
          "text": [
            "AUROC: 85.34%\n"
          ]
        }
      ],
      "source": [
        "from sklearn.metrics import precision_recall_curve, precision_recall_fscore_support, roc_auc_score\n",
        "\n",
        "\n",
        "model.eval()\n",
        "with torch.no_grad():\n",
        "    y_score = activation(model(X_test))\n",
        "\n",
        "auroc = roc_auc_score(y_test, y_score)\n",
        "print(f\"AUROC: {100 * auroc:.2f}%\")"
      ]
    },
    {
      "cell_type": "markdown",
      "metadata": {
        "id": "N_OV6kTm_nvO"
      },
      "source": [
        "Jest to całkiem dobry wynik, a może być jeszcze lepszy. Sprawdźmy dla pewności jeszcze inne metryki: precyzję, recall oraz F1-score. Dodatkowo narysujemy krzywą precision-recall, czyli jak zmieniają się te metryki w zależności od przyjętego progu (threshold) prawdopodobieństwa, powyżej którego przyjmujemy klasę pozytywną. Taką krzywą należy rysować na zbiorze walidacyjnym, bo później chcemy wykorzystać tę informację do doboru progu, a nie chcemy mieć wycieku danych testowych (data leakage).\n",
        "\n",
        "Poniżej zaimplementowano także funkcję `get_optimal_threshold()`, która sprawdza, dla którego progu uzyskujemy maksymalny F1-score, i zwraca indeks oraz wartość optymalnego progu. Przyda ci się ona w dalszej części laboratorium."
      ]
    },
    {
      "cell_type": "code",
      "execution_count": null,
      "metadata": {
        "id": "_HfHMwKD_nvO"
      },
      "outputs": [],
      "source": [
        "from sklearn.metrics import PrecisionRecallDisplay\n",
        "\n",
        "\n",
        "def get_optimal_threshold(\n",
        "    precisions: np.array,\n",
        "    recalls: np.array,\n",
        "    thresholds: np.array\n",
        ") -> Tuple[int, float]:\n",
        "\n",
        "    numerator = 2 * precisions * recalls\n",
        "    denominator = precisions + recalls\n",
        "    f1_scores = np.divide(numerator, denominator, out=np.zeros_like(numerator), where=denominator != 0)\n",
        "\n",
        "    optimal_idx = np.argmax(f1_scores)\n",
        "    optimal_threshold = thresholds[optimal_idx]\n",
        "\n",
        "    return optimal_idx, optimal_threshold\n",
        "\n",
        "\n",
        "def plot_precision_recall_curve(y_true, y_pred_score) -> None:\n",
        "    precisions, recalls, thresholds = precision_recall_curve(y_true, y_pred_score)\n",
        "    optimal_idx, optimal_threshold = get_optimal_threshold(precisions, recalls, thresholds)\n",
        "\n",
        "    disp = PrecisionRecallDisplay(precisions, recalls)\n",
        "    disp.plot()\n",
        "    plt.title(f\"Precision-recall curve (opt. thresh.: {optimal_threshold:.4f})\")\n",
        "    plt.axvline(recalls[optimal_idx], color=\"green\", linestyle=\"-.\")\n",
        "    plt.axhline(precisions[optimal_idx], color=\"green\", linestyle=\"-.\")\n",
        "    plt.show()\n"
      ]
    },
    {
      "cell_type": "code",
      "execution_count": null,
      "metadata": {
        "colab": {
          "base_uri": "https://localhost:8080/",
          "height": 472
        },
        "id": "qF26WqjM_nvO",
        "outputId": "3fb32f42-04b3-4448-e5c8-d3d9fe58517a"
      },
      "outputs": [
        {
          "data": {
            "image/png": "[encoded data removed]",
            "text/plain": [
              "<Figure size 640x480 with 1 Axes>"
            ]
          },
          "metadata": {},
          "output_type": "display_data"
        }
      ],
      "source": [
        "model.eval()\n",
        "with torch.no_grad():\n",
        "    y_pred_valid_score = activation(model(X_valid))\n",
        "\n",
        "plot_precision_recall_curve(y_valid, y_pred_valid_score)"
      ]
    },
    {
      "cell_type": "markdown",
      "metadata": {
        "id": "vfQPIUQ_LAs2"
      },
      "source": [
        "Jak widać, chociaż AUROC jest wysokie, to dla optymalnego F1-score recall nie jest zbyt wysoki, a precyzja jest już dość niska. Być może wynik uda się poprawić, używając modelu o większej pojemności - pełnej, głębokiej sieci neuronowej."
      ]
    },
    {
      "cell_type": "markdown",
      "metadata": {
        "id": "6uSiD_EI_nvP"
      },
      "source": [
        "## Sieci neuronowe"
      ]
    },
    {
      "cell_type": "markdown",
      "metadata": {
        "id": "YP298w6Cq7T6"
      },
      "source": [
        "Wszystko zaczęło się od inspirowanych biologią [sztucznych neuronów](https://en.wikipedia.org/wiki/Artificial_neuron), których próbowano użyć do symulacji mózgu. Naukowcy szybko odeszli od tego podejścia (sam problem modelowania okazał się też znacznie trudniejszy, niż sądzono), zamiast tego używając neuronów jako jednostek reprezentującą dowolną funkcję parametryczną $f(x, \\Theta)$. Każdy neuron jest zatem bardzo elastyczny, bo jedyne wymagania to funkcja różniczkowalna, a mamy do tego wektor parametrów $\\Theta$.\n",
        "\n",
        "W praktyce najczęściej można spotkać się z kilkoma rodzinami sieci neuronowych:\n",
        "1. Perceptrony wielowarstwowe (*MultiLayer Perceptron*, MLP) - najbardziej podobne do powyższego opisu, niezbędne do klasyfikacji i regresji\n",
        "2. Konwolucyjne (*Convolutional Neural Networks*, CNNs) - do przetwarzania danych z zależnościami przestrzennymi, np. obrazów czy dźwięku\n",
        "3. Rekurencyjne (*Recurrent Neural Networks*, RNNs) - do przetwarzania danych z zależnościami sekwencyjnymi, np. szeregi czasowe, oraz kiedyś do języka naturalnego\n",
        "4. Transformacyjne (*Transformers*), oparte o mechanizm atencji (*attention*) - do przetwarzania języka naturalnego (NLP), z którego wyparły RNNs, a coraz częściej także do wszelkich innych danych, np. obrazów, dźwięku\n",
        "5. Grafowe (*Graph Neural Networks*, GNNS) - do przetwarzania grafów\n",
        "\n",
        "Na tym laboratorium skupimy się na najprostszej architekturze, czyli MLP. Jest ona powszechnie łączona z wszelkimi innymi architekturami, bo pozwala dokonywać klasyfikacji i regresji. Przykładowo, klasyfikacja obrazów to zwykle CNN + MLP, klasyfikacja tekstów to transformer + MLP, a regresja na grafach to GNN + MLP.\n",
        "\n",
        "Dodatkowo, pomimo prostoty MLP są bardzo potężne - udowodniono, że perceptrony (ich powszechna nazwa) są [uniwersalnym aproksymatorem](https://www.sciencedirect.com/science/article/abs/pii/0893608089900208), będącym w stanie przybliżyć dowolną funkcję z odpowiednio małym błędem, zakładając wystarczającą wielkość warstw sieci. Szczególne ich wersje potrafią nawet [reprezentować drzewa decyzyjne](https://www.youtube.com/watch?v=_okxGdHM5b8).\n",
        "\n",
        "Dla zainteresowanych polecamy [doskonałą książkę \"Dive into Deep Learning\", z implementacjami w PyTorchu](https://d2l.ai/chapter_multilayer-perceptrons/index.html), [klasyczną książkę \"Deep Learning Book\"](https://www.deeplearningbook.org/contents/mlp.html), oraz [ten filmik](https://www.youtube.com/watch?v=BFHrIxKcLjA), jeśli zastanawiałeś/-aś się, czemu używamy deep learning, a nie naprzykład (wide?) learning. (aka. czemu staramy się budować głębokie sieci, a nie płytkie za to szerokie)"
      ]
    },
    {
      "cell_type": "markdown",
      "metadata": {
        "id": "S_ZjoGBU5upj"
      },
      "source": [
        "### Sieci MLP\n",
        "\n",
        "Dla przypomnienia, na wejściu mamy punkty ze zbioru treningowego, czyli $d$-wymiarowe wektory. W klasyfikacji chcemy znaleźć granicę decyzyjną, czyli krzywą, która oddzieli od siebie klasy. W wejściowej przestrzeni może być to trudne, bo chmury punktów z poszczególnych klas mogą być ze sobą dość pomieszane. Pamiętajmy też, że regresja logistyczna jest klasyfikatorem liniowym, czyli w danej przestrzeni potrafi oddzielić punkty tylko linią prostą.\n",
        "\n",
        "Sieć MLP składa się z warstw. Każda z nich dokonuje nieliniowego przekształcenia przestrzeni (można o tym myśleć jak o składaniu przestrzeni jakąś prostą/łamaną), tak, aby w finalnej przestrzeni nasze punkty były możliwie liniowo separowalne. Wtedy ostatnia warstwa z sigmoidą będzie potrafiła je rozdzielić od siebie.\n",
        "\n",
        "![1_x-3NGQv0pRIab8xDT-f_Hg.png](attachment:1_x-3NGQv0pRIab8xDT-f_Hg.png)\n",
        "\n",
        "Poszczególne neurony składają się z iloczynu skalarnego wejść z wagami neuronu, oraz nieliniowej funkcji aktywacji. W PyTorchu są to osobne obiekty - `nn.Linear` oraz np. `nn.Sigmoid`. Funkcja aktywacji przyjmuje wynik iloczynu skalarnego i przekształca go, aby sprawdzić, jak mocno reaguje neuron na dane wejście. Musi być nieliniowa z dwóch powodów. Po pierwsze, tylko nieliniowe przekształcenia są na tyle potężne, żeby umożliwić liniową separację danych w ostatniej warstwie. Po drugie, liniowe przekształcenia zwyczajnie nie działają. Aby zrozumieć czemu, trzeba zobaczyć, co matematycznie oznacza sieć MLP.\n",
        "\n",
        "![perceptron](https://www.saedsayad.com/images/Perceptron_bkp_1.png)\n",
        "\n",
        "Zapisane matematycznie MLP to:\n",
        "\n",
        "$\\large\n",
        "h_1 = f_1(x) \\\\\n",
        "h_2 = f_2(h_1) \\\\\n",
        "h_3 = f_3(h_2) \\\\\n",
        "... \\\\\n",
        "h_n = f_n(h_{n-1})\n",
        "$\n",
        "\n",
        "gdzie $x$ to wejście $f_i$ to funkcja aktywacji $i$-tej warstwy, a $h_i$ to wyjście $i$-tej warstwy, nazywane **ukrytą reprezentacją (hidden representation)**, lub *latent representation*. Nazwa bierze się z tego, że w środku sieci wyciągamy cechy i wzorce w danych, które nie są widoczne na pierwszy rzut oka na wejściu.\n",
        "\n",
        "Załóżmy, że uczymy się na danych $x$ o jednym wymiarze (dla uproszczenia wzorów) oraz nie mamy funkcji aktywacji, czyli wykorzystujemy tak naprawdę aktywację liniową $f(x) = x$. Zobaczmy jak będą wyglądać dane przechodząc przez kolejne warstwy:\n",
        "\n",
        "$\\large\n",
        "h_1 = f_1(xw_1) = xw_1 \\\\\n",
        "h_2 = f_2(h_1w_2) = xw_1w_2 \\\\\n",
        "... \\\\\n",
        "h_n = f_n(h_{n-1}w_n) = xw_1w_2...w_n\n",
        "$\n",
        "\n",
        "gdzie $w_i$ to jest parametr $i$-tej warstwy sieci, $x$ to są dane (w naszym przypadku jedna liczba) wejściowa, a $h_i$ to wyjście $i$-tej warstwy.\n",
        "\n",
        "Jak widać, taka sieć o $n$ warstwach jest równoważna sieci o jednej warstwie z parametrem $w = w_1w_2...w_n$. Wynika to z tego, że złożenie funkcji liniowych jest także funkcją liniową - patrz notatki z algebry :)\n",
        "\n",
        "Jeżeli natomiast użyjemy nieliniowej funkcji aktywacji, często oznaczanej jako $\\sigma$, to wszystko będzie działać. Co ważne, ostatnia warstwa, dająca wyjście sieci, ma zwykle inną aktywację od warstw wewnątrz sieci, bo też ma inne zadanie - zwrócić wartość dla klasyfikacji lub regresji. Na wyjściu korzysta się z funkcji liniowej (regresja), sigmoidalnej (klasyfikacja binarna) lub softmax (klasyfikacja wieloklasowa).\n",
        "\n",
        "Wewnątrz sieci używano kiedyś sigmoidy oraz tangensa hiperbolicznego `tanh`, ale okazało się to nieefektywne przy uczeniu głębokich sieci o wielu warstwach. Nowoczesne sieci korzystają zwykle z funkcji ReLU (*rectified linear unit*), która jest zaskakująco prosta: $ReLU(x) = \\max(0, x)$. Okazało się, że bardzo dobrze nadaje się do treningu nawet bardzo głębokich sieci neuronowych. Nowsze funkcje aktywacji są głównie modyfikacjami ReLU.\n",
        "\n",
        "![relu](https://www.nomidl.com/wp-content/uploads/2022/04/image-10.png)"
      ]
    },
    {
      "cell_type": "markdown",
      "metadata": {
        "id": "NhnVP8Yd_nvP"
      },
      "source": [
        "### MLP w PyTorchu\n",
        "\n",
        "Warstwę neuronów w MLP nazywa się warstwą gęstą (*dense layer*) lub warstwą w pełni połączoną (*fully-connected layer*), i taki opis oznacza zwykle same neurony oraz funkcję aktywacji. PyTorch, jak już widzieliśmy, definiuje osobno transformację liniową oraz aktywację, a więc jedna warstwa składa się de facto z 2 obiektów, wywoływanych jeden po drugim. Inne frameworki, szczególnie wysokopoziomowe (np. Keras) łączą to często w jeden obiekt.\n",
        "\n",
        "MLP składa się zatem z sekwencji obiektów, które potem wywołuje się jeden po drugim, gdzie wyjście poprzedniego to wejście kolejnego. Ale nie można tutaj używać Pythonowych list! Z perspektywy PyTorcha to wtedy niezależne obiekty i nie zostanie wtedy przekazany między nimi gradient. Trzeba tutaj skorzystać z `nn.Sequential`, aby tworzyć taki pipeline.\n",
        "\n",
        "Rozmiary wejścia i wyjścia dla każdej warstwy trzeba w PyTorchu podawać explicite. Jest to po pierwsze edukacyjne, a po drugie często ułatwia wnioskowanie o działaniu sieci oraz jej debugowanie - mamy jasno podane, czego oczekujemy. Niektóre frameworki (np. Keras) obliczają to automatycznie.\n",
        "\n",
        "Co ważne, ostatnia warstwa zwykle nie ma funkcji aktywacji. Wynika to z tego, że obliczanie wielu funkcji kosztu (np. entropii krzyżowej) na aktywacjach jest często niestabilne numerycznie. Z tego powodu PyTorch oferuje funkcje kosztu zawierające w środku aktywację dla ostatniej warstwy, a ich implementacje są stabilne numerycznie. Przykładowo, `nn.BCELoss` przyjmuje wejście z zaaplikowanymi już aktywacjami, ale może skutkować under/overflow, natomiast `nn.BCEWithLogitsLoss` przyjmuje wejście bez aktywacji, a w środku ma specjalną implementację łączącą binarną entropię krzyżową z aktywacją sigmoidalną. Oczywiście w związku z tym aby dokonać potem predykcji w praktyce, trzeba pamiętać o użyciu funkcji aktywacji. Często korzysta się przy tym z funkcji z modułu `torch.nn.functional`, które są w tym wypadku nieco wygodniejsze od klas wywoływalnych z `torch.nn`.\n",
        "\n",
        "Całe sieci w PyTorchu tworzy się jako klasy dziedziczące po `nn.Module`. Co ważne, obiekty, z których tworzymy sieć, np. `nn.Linear`, także dziedziczą po tej klasie. Pozwala to na bardzo modułową budowę kodu, zgodną z zasadami OOP. W konstruktorze najpierw trzeba zawsze wywołać konstruktor rodzica - `super().__init__()`, a później tworzy się potrzebne obiekty i zapisuje jako atrybuty. Każdy atrybut dziedziczący po `nn.Module` lub `nn.Parameter` jest uważany za taki, który zawiera parametry sieci, a więc przy wywołaniu metody `parameters()` - parametry z tych atrybutów pojawią się w liście wszystkich parametrów. Musimy też zdefiniować metodę `forward()`, która przyjmuje tensor `x` i zwraca wynik. Typowo ta metoda po prostu używa obiektów zdefiniowanych w konstruktorze.\n",
        "\n",
        "\n",
        "**UWAGA: nigdy w normalnych warunkach się nie woła metody `forward` ręcznie**"
      ]
    },
    {
      "cell_type": "markdown",
      "metadata": {
        "id": "J8niDgExAMDO"
      },
      "source": [
        "#### Zadanie 4 (0.5 punktu)\n",
        "\n",
        "Uzupełnij implementację 3-warstwowej sieci MLP. Użyj rozmiarów:\n",
        "* pierwsza warstwa: input_size x 256\n",
        "* druga warstwa: 256 x 128\n",
        "* trzecia warstwa: 128 x 1\n",
        "\n",
        "Użyj funkcji aktywacji ReLU.\n",
        "\n",
        "Przydatne klasy:\n",
        "- `nn.Sequential`\n",
        "- `nn.Linear`\n",
        "- `nn.ReLU`"
      ]
    },
    {
      "cell_type": "code",
      "execution_count": null,
      "metadata": {
        "id": "80t3frlS_nvQ"
      },
      "outputs": [],
      "source": [
        "from torch import sigmoid\n",
        "\n",
        "\n",
        "class MLP(nn.Module):\n",
        "    def __init__(self, input_size: int):\n",
        "        super().__init__()\n",
        "\n",
        "        # implement me!\n",
        "        # your_code\n",
        "        self.model = nn.Sequential(nn.Linear(input_size, 256), nn.ReLU(),\n",
        "                                   nn.Linear(256,128), nn.ReLU(),nn.Linear(128,1),)\n",
        "\n",
        "    def forward(self, x):\n",
        "        # implement me!\n",
        "        # your_code\n",
        "        return self.model(x)\n",
        "\n",
        "    def predict_proba(self, x):\n",
        "        return sigmoid(self(x))\n",
        "\n",
        "    def predict(self, x, threshold: float = 0.5):\n",
        "        y_pred_score = self.predict_proba(x)\n",
        "        return (y_pred_score > threshold).to(torch.int32)\n"
      ]
    },
    {
      "cell_type": "code",
      "execution_count": null,
      "metadata": {
        "colab": {
          "base_uri": "https://localhost:8080/"
        },
        "id": "KQlJdTxe_nvQ",
        "outputId": "98dc40aa-7c27-4789-8480-280448b8f20e"
      },
      "outputs": [
        {
          "name": "stdout",
          "output_type": "stream",
          "text": [
            "Epoch 0 train loss: 0.6864\n",
            "Epoch 200 train loss: 0.6656\n",
            "Epoch 400 train loss: 0.6476\n",
            "Epoch 600 train loss: 0.6320\n",
            "Epoch 800 train loss: 0.6181\n",
            "Epoch 1000 train loss: 0.6058\n",
            "Epoch 1200 train loss: 0.5948\n",
            "Epoch 1400 train loss: 0.5850\n",
            "Epoch 1600 train loss: 0.5761\n",
            "Epoch 1800 train loss: 0.5681\n",
            "final loss: 0.5608\n"
          ]
        }
      ],
      "source": [
        "learning_rate = 1e-3\n",
        "model = MLP(input_size=X_train.shape[1])\n",
        "optimizer = torch.optim.SGD(model.parameters(), lr=learning_rate)\n",
        "\n",
        "# note that we are using loss function with sigmoid built in\n",
        "loss_fn = torch.nn.BCEWithLogitsLoss()\n",
        "num_epochs = 2000\n",
        "evaluation_steps = 200\n",
        "\n",
        "for i in range(num_epochs):\n",
        "    y_pred = model(X_train)\n",
        "    loss = loss_fn(y_pred, y_train)\n",
        "    loss.backward()\n",
        "\n",
        "    optimizer.step()\n",
        "    optimizer.zero_grad()\n",
        "\n",
        "    if i % evaluation_steps == 0:\n",
        "        print(f\"Epoch {i} train loss: {loss.item():.4f}\")\n",
        "\n",
        "print(f\"final loss: {loss.item():.4f}\")"
      ]
    },
    {
      "cell_type": "code",
      "execution_count": null,
      "metadata": {
        "colab": {
          "base_uri": "https://localhost:8080/",
          "height": 489
        },
        "id": "LP5GSup24dXU",
        "outputId": "3cba9f91-8fc0-4521-aa8a-a0381728659b"
      },
      "outputs": [
        {
          "name": "stdout",
          "output_type": "stream",
          "text": [
            "AUROC: 77.79%\n"
          ]
        },
        {
          "data": {
            "image/png": "[encoded data removed]",
            "text/plain": [
              "<Figure size 640x480 with 1 Axes>"
            ]
          },
          "metadata": {},
          "output_type": "display_data"
        }
      ],
      "source": [
        "model.eval()\n",
        "with torch.no_grad():\n",
        "    # positive class probabilities\n",
        "    y_pred_valid_score = model.predict_proba(X_valid)\n",
        "    y_pred_test_score = model.predict_proba(X_test)\n",
        "\n",
        "auroc = roc_auc_score(y_test, y_pred_test_score)\n",
        "print(f\"AUROC: {100 * auroc:.2f}%\")\n",
        "\n",
        "plot_precision_recall_curve(y_valid, y_pred_valid_score)"
      ]
    },
    {
      "cell_type": "markdown",
      "metadata": {
        "id": "UFYs1crh_nvQ"
      },
      "source": [
        "AUROC jest podobne, a precision i recall spadły - wypadamy wręcz gorzej od regresji liniowej! Skoro dodaliśmy więcej warstw, to może pojemność modelu jest teraz za duża i trzeba by go zregularyzować?\n",
        "\n",
        "Sieci neuronowe bardzo łatwo przeuczają, bo są bardzo elastycznymi i pojemnymi modelami. Dlatego mają wiele różnych rodzajów regularyzacji, których używa się razem. Co ciekawe, udowodniono eksperymentalnie, że zbyt duże sieci z mocną regularyzacją działają lepiej niż mniejsze sieci, odpowiedniego rozmiaru, za to ze słabszą regularyzacją.\n",
        "\n",
        "Pierwszy rodzaj regularyzacji to znana nam już **regularyzacja L2**, czyli penalizacja zbyt dużych wag. W kontekście sieci neuronowych nazywa się też ją czasem *weight decay*. W PyTorchu dodaje się ją jako argument do optymalizatora.\n",
        "\n",
        "Regularyzacja specyficzna dla sieci neuronowych to **dropout**. Polega on na losowym wyłączaniu zadanego procenta neuronów podczas treningu. Pomimo prostoty okazała się niesamowicie skuteczna, szczególnie w treningu bardzo głębokich sieci. Co ważne, jest to mechanizm używany tylko podczas treningu - w trakcie predykcji za pomocą sieci wyłącza się ten mechanizm i dokonuje normalnie predykcji całą siecią. Podejście to można potraktować jak ensemble learning, podobny do lasów losowych - wyłączając losowe części sieci, w każdej iteracji trenujemy nieco inną sieć, co odpowiada uśrednianiu predykcji różnych algorytmów. Typowo stosuje się dość mocny dropout, rzędu 25-50%. W PyTorchu implementuje go warstwa `nn.Dropout`, aplikowana zazwyczaj po funkcji aktywacji.\n",
        "\n",
        "Ostatni, a być może najważniejszy rodzaj regularyzacji to **wczesny stop (early stopping)**. W każdym kroku mocniej dostosowujemy terenową sieć do zbioru treningowego, a więc zbyt długi trening będzie skutkował przeuczeniem. W metodzie wczesnego stopu używamy wydzielonego zbioru walidacyjnego (pojedynczego, metoda holdout), sprawdzając co określoną liczbę epok wynik na tym zbiorze. Jeżeli nie uzyskamy wyniku lepszego od najlepszego dotychczas uzyskanego przez określoną liczbę epok, to przerywamy trening. Okres, przez który czekamy na uzyskanie lepszego wyniku, to cierpliwość (*patience*). Im mniejsze, tym mocniejszy jest ten rodzaj regularyzacji, ale trzeba z tym uważać, bo łatwo jest przesadzić i zbyt szybko przerywać trening. Niektóre implementacje uwzględniają tzw. *grace period*, czyli gwarantowaną minimalną liczbę epok, przez którą będziemy trenować sieć, niezależnie od wybranej cierpliwości.\n",
        "\n",
        "Dodatkowo ryzyko przeuczenia można zmniejszyć, używając mniejszej stałej uczącej."
      ]
    },
    {
      "cell_type": "markdown",
      "metadata": {
        "id": "aFI2NbR4_nvQ"
      },
      "source": [
        "#### Zadanie 5 (1.5 punktu)\n",
        "\n",
        "Zaimplementuj funkcję `evaluate_model()`, obliczającą metryki na zbiorze testowym:\n",
        "- wartość funkcji kosztu (loss)\n",
        "- AUROC\n",
        "- optymalny próg\n",
        "- F1-score przy optymalnym progu\n",
        "- precyzję oraz recall dla optymalnego progu\n",
        "\n",
        "Jeżeli podana jest wartość argumentu `threshold`, to użyj jej do zamiany prawdopodobieństw na twarde predykcje. W przeciwnym razie użyj funkcji `get_optimal_threshold` i oblicz optymalną wartość progu.\n",
        "\n",
        "Pamiętaj o przełączeniu modelu w tryb ewaluacji oraz o wyłączeniu obliczania gradientów."
      ]
    },
    {
      "cell_type": "code",
      "execution_count": null,
      "metadata": {
        "id": "OF7aXvFP_nvQ"
      },
      "outputs": [],
      "source": [
        "from typing import Optional\n",
        "\n",
        "from sklearn.metrics import precision_score, recall_score, f1_score\n",
        "from torch import sigmoid\n",
        "\n",
        "\n",
        "def evaluate_model(\n",
        "    model: nn.Module,\n",
        "    X: torch.Tensor,\n",
        "    y: torch.Tensor,\n",
        "    loss_fn: nn.Module,\n",
        "    threshold: Optional[float]= None\n",
        ") -> Dict[str, float]:\n",
        "    # implement me!\n",
        "    # your_code\n",
        "\n",
        "    model.eval()\n",
        "    with torch.no_grad():\n",
        "        y_pred = model(X)\n",
        "        loss = loss_fn(y_pred,y)\n",
        "        y_pred_prob = sigmoid(y_pred)\n",
        "\n",
        "        if threshold is not None:\n",
        "            optimal_threshold = threshold\n",
        "        else:\n",
        "            precision, recall, thresholds = precision_recall_curve(y, y_pred_prob)\n",
        "            optimal_idx, optimal_threshold = get_optimal_threshold(precision, recall, thresholds)\n",
        "\n",
        "        y_pred_hard = (y_pred_prob > optimal_threshold).to(torch.int32)\n",
        "\n",
        "\n",
        "        precision = precision_score(y, y_pred_hard)\n",
        "        recall = recall_score(y, y_pred_hard)\n",
        "        f1 = f1_score(y, y_pred_hard)\n",
        "        auroc = roc_auc_score(y, y_pred_prob)\n",
        "\n",
        "        return {\n",
        "                'loss': loss.item(),\n",
        "                'AUROC': auroc,\n",
        "                'optimal_threshold': optimal_threshold,\n",
        "                'F1-score': f1,\n",
        "                'precision': precision,\n",
        "                'recall': recall\n",
        "            }\n"
      ]
    },
    {
      "cell_type": "markdown",
      "metadata": {
        "id": "Kjrngscg_nvQ"
      },
      "source": [
        "#### Zadanie 6 (0.5 punktu)\n",
        "\n",
        "Zaimplementuj 3-warstwową sieć MLP z dropout (50%). Rozmiary warstw ukrytych mają wynosić 256 i 128."
      ]
    },
    {
      "cell_type": "code",
      "execution_count": null,
      "metadata": {
        "id": "DKGMvKnb_nvR"
      },
      "outputs": [],
      "source": [
        "class RegularizedMLP(nn.Module):\n",
        "    def __init__(self, input_size: int, dropout_p: float = 0.5):\n",
        "        super().__init__()\n",
        "\n",
        "        # implement me!\n",
        "        # your_code\n",
        "        self.model = nn.Sequential(nn.Linear(input_size, 256), nn.ReLU(),\n",
        "                                   nn.Dropout(dropout_p), nn.Linear(256, 128),\n",
        "                                   nn.ReLU(), nn.Dropout(dropout_p), nn.Linear(128, 1))\n",
        "\n",
        "    def forward(self, x):\n",
        "        # implement me!\n",
        "        # your_code\n",
        "        return self.model(x)\n",
        "\n",
        "    def predict_proba(self, x):\n",
        "        return sigmoid(self(x))\n",
        "\n",
        "    def predict(self, x, threshold: float = 0.5):\n",
        "        y_pred_score = self.predict_proba(x)\n",
        "        return (y_pred_score > threshold).to(torch.int32)\n"
      ]
    },
    {
      "cell_type": "markdown",
      "metadata": {
        "id": "rEk9azaULAsz"
      },
      "source": [
        "Opisaliśmy wcześniej podstawowy optymalizator w sieciach neuronowych - spadek wzdłuż gradientu. Jednak wymaga on użycia całego zbioru danych, aby obliczyć gradient, co jest często niewykonalne przez rozmiar zbioru. Dlatego wymyślono **stochastyczny spadek wzdłuż gradientu (stochastic gradient descent, SGD)**, w którym używamy 1 przykładu naraz, liczymy gradient tylko po nim i aktualizujemy parametry. Jest to oczywiście dość grube przybliżenie gradientu, ale pozwala robić szybko dużo małych kroków. Kompromisem, którego używa się w praktyce, jest **minibatch gradient descent**, czyli używanie batchy np. 32, 64 czy 128 przykładów.\n",
        "\n",
        "Rzadko wspominanym, a ważnym faktem jest także to, że stochastyczność metody optymalizacji jest sama w sobie też [metodą regularyzacji](https://arxiv.org/abs/2101.12176), a więc `batch_size` to także hiperparametr.\n",
        "\n",
        "Obecnie najpopularniejszą odmianą SGD jest [Adam](https://arxiv.org/abs/1412.6980), gdyż uczy on szybko sieć oraz daje bardzo dobre wyniki nawet przy niekoniecznie idealnie dobranych hiperparametrach. W PyTorchu najlepiej korzystać z jego implementacji `AdamW`, która jest nieco lepsza niż implementacja `Adam`. Jest to zasadniczo zawsze wybór domyślny przy treningu współczesnych sieci neuronowych.\n",
        "\n",
        "Na razie użyjemy jednak minibatch SGD."
      ]
    },
    {
      "cell_type": "markdown",
      "metadata": {
        "id": "MufUBcY2_nvR"
      },
      "source": [
        "Poniżej znajduje się implementacja prostej klasy dziedziczącej po `Dataset` - tak w PyTorchu implementuje się własne zbiory danych. Użycie takich klas umożliwia użycie klas ładujących dane (`DataLoader`), które z kolei pozwalają łatwo ładować batche danych. Trzeba w takiej klasie zaimplementować metody:\n",
        "- `__len__` - zwraca ilość punktów w zbiorze\n",
        "- `__getitem__` - zwraca przykład ze zbioru pod danym indeksem oraz jego klasę\n"
      ]
    },
    {
      "cell_type": "code",
      "execution_count": null,
      "metadata": {
        "id": "HF31xIJq_nvR"
      },
      "outputs": [],
      "source": [
        "from torch.utils.data import Dataset\n",
        "\n",
        "\n",
        "class MyDataset(Dataset):\n",
        "    def __init__(self, data, y):\n",
        "        super().__init__()\n",
        "\n",
        "        self.data = data\n",
        "        self.y = y\n",
        "\n",
        "    def __len__(self):\n",
        "        return self.data.shape[0]\n",
        "\n",
        "    def __getitem__(self, idx):\n",
        "        return self.data[idx], self.y[idx]\n"
      ]
    },
    {
      "cell_type": "markdown",
      "metadata": {
        "id": "6HsfcbtT_nvR"
      },
      "source": [
        "#### Zadanie 7 (1.5 punktu)\n",
        "\n",
        "Zaimplementuj pętlę treningowo-walidacyjną dla sieci neuronowej. Wykorzystaj podane wartości hiperparametrów do treningu (stała ucząca, prawdopodobieństwo dropoutu, regularyzacja L2, rozmiar batcha, maksymalna liczba epok). Użyj optymalizatora SGD.\n",
        "\n",
        "Dodatkowo zaimplementuj regularyzację przez early stopping. Sprawdzaj co epokę wynik na zbiorze walidacyjnym. Użyj podanej wartości patience, a jako metryki po prostu wartości funkcji kosztu. Może się tutaj przydać zaimplementowana funkcja `evaluate_model()`.\n",
        "\n",
        "Pamiętaj o tym, aby przechowywać najlepszy dotychczasowy wynik walidacyjny oraz najlepszy dotychczasowy model. Zapamiętaj też optymalny próg do klasyfikacji dla najlepszego modelu."
      ]
    },
    {
      "cell_type": "code",
      "execution_count": null,
      "metadata": {
        "id": "s0QDlFhP_nvR"
      },
      "outputs": [],
      "source": [
        "from copy import deepcopy\n",
        "\n",
        "from torch.utils.data import DataLoader\n",
        "\n",
        "\n",
        "learning_rate = 1e-3\n",
        "dropout_p = 0.5\n",
        "l2_reg = 1e-4\n",
        "batch_size = 128\n",
        "max_epochs = 300\n",
        "\n",
        "early_stopping_patience = 4"
      ]
    },
    {
      "cell_type": "code",
      "execution_count": null,
      "metadata": {
        "colab": {
          "base_uri": "https://localhost:8080/"
        },
        "id": "Mu8g5N-I_nvR",
        "outputId": "edb9c263-0e77-49df-c6b5-f939558377b6",
        "scrolled": true
      },
      "outputs": [
        {
          "name": "stdout",
          "output_type": "stream",
          "text": [
            "Epoch 0 train loss: 0.6728, eval loss 0.6736665368080139\n",
            "Epoch 1 train loss: 0.6580, eval loss 0.6556050777435303\n",
            "Epoch 2 train loss: 0.6393, eval loss 0.6400412917137146\n",
            "Epoch 3 train loss: 0.6207, eval loss 0.6263643503189087\n",
            "Epoch 4 train loss: 0.6112, eval loss 0.6142419576644897\n",
            "Epoch 5 train loss: 0.6029, eval loss 0.603464663028717\n",
            "Epoch 6 train loss: 0.5880, eval loss 0.5938180685043335\n",
            "Epoch 7 train loss: 0.5778, eval loss 0.5851410031318665\n",
            "Epoch 8 train loss: 0.5819, eval loss 0.5773661732673645\n",
            "Epoch 9 train loss: 0.5708, eval loss 0.5704042315483093\n",
            "Epoch 10 train loss: 0.5616, eval loss 0.5640938878059387\n",
            "Epoch 11 train loss: 0.5540, eval loss 0.5583080053329468\n",
            "Epoch 12 train loss: 0.5497, eval loss 0.553036093711853\n",
            "Epoch 13 train loss: 0.5422, eval loss 0.5482237339019775\n",
            "Epoch 14 train loss: 0.5480, eval loss 0.543743371963501\n",
            "Epoch 15 train loss: 0.5224, eval loss 0.5395792722702026\n",
            "Epoch 16 train loss: 0.5417, eval loss 0.5356829166412354\n",
            "Epoch 17 train loss: 0.5177, eval loss 0.5319982767105103\n",
            "Epoch 18 train loss: 0.5234, eval loss 0.5285245180130005\n",
            "Epoch 19 train loss: 0.5221, eval loss 0.5251010060310364\n",
            "Epoch 20 train loss: 0.5067, eval loss 0.521812379360199\n",
            "Epoch 21 train loss: 0.5156, eval loss 0.5185986161231995\n",
            "Epoch 22 train loss: 0.5069, eval loss 0.5154340267181396\n",
            "Epoch 23 train loss: 0.5221, eval loss 0.5122976899147034\n",
            "Epoch 24 train loss: 0.4961, eval loss 0.5091856122016907\n",
            "Epoch 25 train loss: 0.4969, eval loss 0.5060747265815735\n",
            "Epoch 26 train loss: 0.5044, eval loss 0.5029652714729309\n",
            "Epoch 27 train loss: 0.4996, eval loss 0.49983158707618713\n",
            "Epoch 28 train loss: 0.4877, eval loss 0.4966956675052643\n",
            "Epoch 29 train loss: 0.4893, eval loss 0.4935344457626343\n",
            "Epoch 30 train loss: 0.4830, eval loss 0.4903494715690613\n",
            "Epoch 31 train loss: 0.4719, eval loss 0.487163782119751\n",
            "Epoch 32 train loss: 0.4909, eval loss 0.4839416444301605\n",
            "Epoch 33 train loss: 0.4858, eval loss 0.48074856400489807\n",
            "Epoch 34 train loss: 0.4886, eval loss 0.47752267122268677\n",
            "Epoch 35 train loss: 0.4921, eval loss 0.47426775097846985\n",
            "Epoch 36 train loss: 0.4785, eval loss 0.4710407853126526\n",
            "Epoch 37 train loss: 0.4622, eval loss 0.4678066074848175\n",
            "Epoch 38 train loss: 0.4698, eval loss 0.4645465314388275\n",
            "Epoch 39 train loss: 0.4645, eval loss 0.4613240957260132\n",
            "Epoch 40 train loss: 0.4698, eval loss 0.4581259787082672\n",
            "Epoch 41 train loss: 0.4539, eval loss 0.4549100399017334\n",
            "Epoch 42 train loss: 0.4682, eval loss 0.4517575204372406\n",
            "Epoch 43 train loss: 0.4636, eval loss 0.448604553937912\n",
            "Epoch 44 train loss: 0.4629, eval loss 0.44551119208335876\n",
            "Epoch 45 train loss: 0.4599, eval loss 0.44244617223739624\n",
            "Epoch 46 train loss: 0.4504, eval loss 0.4394289553165436\n",
            "Epoch 47 train loss: 0.4583, eval loss 0.4364623427391052\n",
            "Epoch 48 train loss: 0.4567, eval loss 0.43355971574783325\n",
            "Epoch 49 train loss: 0.4617, eval loss 0.43067821860313416\n",
            "Epoch 50 train loss: 0.4518, eval loss 0.4278551936149597\n",
            "Epoch 51 train loss: 0.4625, eval loss 0.42508935928344727\n",
            "Epoch 52 train loss: 0.4523, eval loss 0.42235511541366577\n",
            "Epoch 53 train loss: 0.4408, eval loss 0.4196828305721283\n",
            "Epoch 54 train loss: 0.4291, eval loss 0.4170924723148346\n",
            "Epoch 55 train loss: 0.4238, eval loss 0.41459378600120544\n",
            "Epoch 56 train loss: 0.4513, eval loss 0.41212859749794006\n",
            "Epoch 57 train loss: 0.4334, eval loss 0.4097132384777069\n",
            "Epoch 58 train loss: 0.4207, eval loss 0.4073685109615326\n",
            "Epoch 59 train loss: 0.4293, eval loss 0.4050842523574829\n",
            "Epoch 60 train loss: 0.4386, eval loss 0.4028627276420593\n",
            "Epoch 61 train loss: 0.4264, eval loss 0.40070319175720215\n",
            "Epoch 62 train loss: 0.4378, eval loss 0.3986089527606964\n",
            "Epoch 63 train loss: 0.4188, eval loss 0.39659082889556885\n",
            "Epoch 64 train loss: 0.4163, eval loss 0.39462488889694214\n",
            "Epoch 65 train loss: 0.4060, eval loss 0.3927237093448639\n",
            "Epoch 66 train loss: 0.3896, eval loss 0.39085131883621216\n",
            "Epoch 67 train loss: 0.4065, eval loss 0.3890470862388611\n",
            "Epoch 68 train loss: 0.4199, eval loss 0.38731834292411804\n",
            "Epoch 69 train loss: 0.4353, eval loss 0.38564133644104004\n",
            "Epoch 70 train loss: 0.4371, eval loss 0.3840733766555786\n",
            "Epoch 71 train loss: 0.4293, eval loss 0.38254019618034363\n",
            "Epoch 72 train loss: 0.4272, eval loss 0.381032794713974\n",
            "Epoch 73 train loss: 0.4253, eval loss 0.37960994243621826\n",
            "Epoch 74 train loss: 0.3990, eval loss 0.37821871042251587\n",
            "Epoch 75 train loss: 0.4121, eval loss 0.3769165277481079\n",
            "Epoch 76 train loss: 0.3998, eval loss 0.3756968379020691\n",
            "Epoch 77 train loss: 0.4079, eval loss 0.37448328733444214\n",
            "Epoch 78 train loss: 0.4184, eval loss 0.37333065271377563\n",
            "Epoch 79 train loss: 0.3813, eval loss 0.37223660945892334\n",
            "Epoch 80 train loss: 0.3871, eval loss 0.37116119265556335\n",
            "Epoch 81 train loss: 0.3837, eval loss 0.3701361417770386\n",
            "Epoch 82 train loss: 0.3959, eval loss 0.3691505491733551\n",
            "Epoch 83 train loss: 0.4025, eval loss 0.3682323098182678\n",
            "Epoch 84 train loss: 0.4043, eval loss 0.3673752248287201\n",
            "Epoch 85 train loss: 0.3713, eval loss 0.3665263056755066\n",
            "Epoch 86 train loss: 0.4146, eval loss 0.3657129108905792\n",
            "Epoch 87 train loss: 0.3817, eval loss 0.3649148941040039\n",
            "Epoch 88 train loss: 0.3826, eval loss 0.3641706705093384\n",
            "Epoch 89 train loss: 0.3943, eval loss 0.3634541928768158\n",
            "Epoch 90 train loss: 0.4150, eval loss 0.36278316378593445\n",
            "Epoch 91 train loss: 0.4246, eval loss 0.3621234595775604\n",
            "Epoch 92 train loss: 0.3778, eval loss 0.3614930808544159\n",
            "Epoch 93 train loss: 0.4176, eval loss 0.3608894348144531\n",
            "Epoch 94 train loss: 0.3643, eval loss 0.3603142499923706\n",
            "Epoch 95 train loss: 0.3665, eval loss 0.35977065563201904\n",
            "Epoch 96 train loss: 0.3838, eval loss 0.35921376943588257\n",
            "Epoch 97 train loss: 0.3938, eval loss 0.3586951196193695\n",
            "Epoch 98 train loss: 0.4117, eval loss 0.35820069909095764\n",
            "Epoch 99 train loss: 0.3940, eval loss 0.3577250838279724\n",
            "Epoch 100 train loss: 0.4010, eval loss 0.3572850823402405\n",
            "Epoch 101 train loss: 0.4098, eval loss 0.3568252623081207\n",
            "Epoch 102 train loss: 0.3824, eval loss 0.3563847541809082\n",
            "Epoch 103 train loss: 0.4089, eval loss 0.3559609353542328\n",
            "Epoch 104 train loss: 0.3751, eval loss 0.355564683675766\n",
            "Epoch 105 train loss: 0.3973, eval loss 0.35515904426574707\n",
            "Epoch 106 train loss: 0.3958, eval loss 0.35477420687675476\n",
            "Epoch 107 train loss: 0.3893, eval loss 0.35440537333488464\n",
            "Epoch 108 train loss: 0.3720, eval loss 0.35404759645462036\n",
            "Epoch 109 train loss: 0.3869, eval loss 0.35369664430618286\n",
            "Epoch 110 train loss: 0.3834, eval loss 0.3533644676208496\n",
            "Epoch 111 train loss: 0.3834, eval loss 0.35304775834083557\n",
            "Epoch 112 train loss: 0.4093, eval loss 0.3527413010597229\n",
            "Epoch 113 train loss: 0.3903, eval loss 0.3524355888366699\n",
            "Epoch 114 train loss: 0.4085, eval loss 0.3521409034729004\n",
            "Epoch 115 train loss: 0.3613, eval loss 0.3518218696117401\n",
            "Epoch 116 train loss: 0.4098, eval loss 0.3515075445175171\n",
            "Epoch 117 train loss: 0.4123, eval loss 0.3512357771396637\n",
            "Epoch 118 train loss: 0.3826, eval loss 0.3509633541107178\n",
            "Epoch 119 train loss: 0.3734, eval loss 0.3506733179092407\n",
            "Epoch 120 train loss: 0.3770, eval loss 0.35041195154190063\n",
            "Epoch 121 train loss: 0.3969, eval loss 0.3501397669315338\n",
            "Epoch 122 train loss: 0.3737, eval loss 0.3498668968677521\n",
            "Epoch 123 train loss: 0.3957, eval loss 0.34961989521980286\n",
            "Epoch 124 train loss: 0.3807, eval loss 0.34936240315437317\n",
            "Epoch 125 train loss: 0.3441, eval loss 0.3491222560405731\n",
            "Epoch 126 train loss: 0.3818, eval loss 0.34888729453086853\n",
            "Epoch 127 train loss: 0.3931, eval loss 0.348649263381958\n",
            "Epoch 128 train loss: 0.4038, eval loss 0.3484177589416504\n",
            "Epoch 129 train loss: 0.3754, eval loss 0.3481835424900055\n",
            "Epoch 130 train loss: 0.3599, eval loss 0.34795188903808594\n",
            "Epoch 131 train loss: 0.3914, eval loss 0.34771305322647095\n",
            "Epoch 132 train loss: 0.4058, eval loss 0.34748536348342896\n",
            "Epoch 133 train loss: 0.3960, eval loss 0.3472592532634735\n",
            "Epoch 134 train loss: 0.4059, eval loss 0.34706008434295654\n",
            "Epoch 135 train loss: 0.3977, eval loss 0.34684109687805176\n",
            "Epoch 136 train loss: 0.3990, eval loss 0.346608966588974\n",
            "Epoch 137 train loss: 0.3882, eval loss 0.34639352560043335\n",
            "Epoch 138 train loss: 0.3941, eval loss 0.3461991250514984\n",
            "Epoch 139 train loss: 0.3842, eval loss 0.3459821045398712\n",
            "Epoch 140 train loss: 0.3524, eval loss 0.34577450156211853\n",
            "Epoch 141 train loss: 0.3945, eval loss 0.3455495238304138\n",
            "Epoch 142 train loss: 0.4125, eval loss 0.3453499972820282\n",
            "Epoch 143 train loss: 0.3641, eval loss 0.3451504707336426\n",
            "Epoch 144 train loss: 0.3948, eval loss 0.344953328371048\n",
            "Epoch 145 train loss: 0.3722, eval loss 0.34472963213920593\n",
            "Epoch 146 train loss: 0.3670, eval loss 0.3445345163345337\n",
            "Epoch 147 train loss: 0.3614, eval loss 0.34435757994651794\n",
            "Epoch 148 train loss: 0.4072, eval loss 0.344165563583374\n",
            "Epoch 149 train loss: 0.3883, eval loss 0.34397780895233154\n",
            "Epoch 150 train loss: 0.3735, eval loss 0.3438025414943695\n",
            "Epoch 151 train loss: 0.3718, eval loss 0.3436127007007599\n",
            "Epoch 152 train loss: 0.3898, eval loss 0.34342795610427856\n",
            "Epoch 153 train loss: 0.3836, eval loss 0.3432471454143524\n",
            "Epoch 154 train loss: 0.4135, eval loss 0.3430628776550293\n",
            "Epoch 155 train loss: 0.3828, eval loss 0.3428715169429779\n",
            "Epoch 156 train loss: 0.3616, eval loss 0.34268918633461\n",
            "Epoch 157 train loss: 0.3766, eval loss 0.34251007437705994\n",
            "Epoch 158 train loss: 0.4096, eval loss 0.3423520624637604\n",
            "Epoch 159 train loss: 0.3759, eval loss 0.3421836495399475\n",
            "Epoch 160 train loss: 0.3622, eval loss 0.34200236201286316\n",
            "Epoch 161 train loss: 0.3931, eval loss 0.3418310284614563\n",
            "Epoch 162 train loss: 0.3564, eval loss 0.3416464328765869\n",
            "Epoch 163 train loss: 0.3621, eval loss 0.3414723575115204\n",
            "Epoch 164 train loss: 0.4085, eval loss 0.3413052260875702\n",
            "Epoch 165 train loss: 0.3859, eval loss 0.3411354124546051\n",
            "Epoch 166 train loss: 0.3544, eval loss 0.3409571945667267\n",
            "Epoch 167 train loss: 0.3805, eval loss 0.3408057987689972\n",
            "Epoch 168 train loss: 0.3758, eval loss 0.34064146876335144\n",
            "Epoch 169 train loss: 0.3953, eval loss 0.34047234058380127\n",
            "Epoch 170 train loss: 0.3989, eval loss 0.3403005301952362\n",
            "Epoch 171 train loss: 0.3743, eval loss 0.34014829993247986\n",
            "Epoch 172 train loss: 0.3790, eval loss 0.34000271558761597\n",
            "Epoch 173 train loss: 0.3846, eval loss 0.33984023332595825\n",
            "Epoch 174 train loss: 0.3985, eval loss 0.3396916389465332\n",
            "Epoch 175 train loss: 0.3726, eval loss 0.33954092860221863\n",
            "Epoch 176 train loss: 0.3820, eval loss 0.3394060432910919\n",
            "Epoch 177 train loss: 0.3993, eval loss 0.33924078941345215\n",
            "Epoch 178 train loss: 0.3736, eval loss 0.3390958309173584\n",
            "Epoch 179 train loss: 0.3578, eval loss 0.3389374017715454\n",
            "Epoch 180 train loss: 0.3626, eval loss 0.33880433440208435\n",
            "Epoch 181 train loss: 0.3927, eval loss 0.33865565061569214\n",
            "Epoch 182 train loss: 0.3701, eval loss 0.3385184705257416\n",
            "Epoch 183 train loss: 0.3971, eval loss 0.338377982378006\n",
            "Epoch 184 train loss: 0.3807, eval loss 0.33823755383491516\n",
            "Epoch 185 train loss: 0.3802, eval loss 0.33809125423431396\n",
            "Epoch 186 train loss: 0.3871, eval loss 0.33797186613082886\n",
            "Epoch 187 train loss: 0.3689, eval loss 0.3378324806690216\n",
            "Epoch 188 train loss: 0.3833, eval loss 0.3376878499984741\n",
            "Epoch 189 train loss: 0.3846, eval loss 0.337556928396225\n",
            "Epoch 190 train loss: 0.3449, eval loss 0.3374176323413849\n",
            "Epoch 191 train loss: 0.3760, eval loss 0.3372759222984314\n",
            "Epoch 192 train loss: 0.3788, eval loss 0.3371310830116272\n",
            "Epoch 193 train loss: 0.3990, eval loss 0.33701232075691223\n",
            "Epoch 194 train loss: 0.3958, eval loss 0.33688032627105713\n",
            "Epoch 195 train loss: 0.3779, eval loss 0.33674177527427673\n",
            "Epoch 196 train loss: 0.3556, eval loss 0.33661288022994995\n",
            "Epoch 197 train loss: 0.3569, eval loss 0.33649513125419617\n",
            "Epoch 198 train loss: 0.3790, eval loss 0.3363588750362396\n",
            "Epoch 199 train loss: 0.3769, eval loss 0.33622926473617554\n",
            "Epoch 200 train loss: 0.3777, eval loss 0.3361080288887024\n",
            "Epoch 201 train loss: 0.3741, eval loss 0.3359796404838562\n",
            "Epoch 202 train loss: 0.3945, eval loss 0.335868775844574\n",
            "Epoch 203 train loss: 0.3987, eval loss 0.3357509672641754\n",
            "Epoch 204 train loss: 0.3873, eval loss 0.3356243669986725\n",
            "Epoch 205 train loss: 0.3519, eval loss 0.33550867438316345\n",
            "Epoch 206 train loss: 0.3982, eval loss 0.3353939354419708\n",
            "Epoch 207 train loss: 0.3904, eval loss 0.3352798521518707\n",
            "Epoch 208 train loss: 0.3691, eval loss 0.33516383171081543\n",
            "Epoch 209 train loss: 0.3796, eval loss 0.33503255248069763\n",
            "Epoch 210 train loss: 0.3950, eval loss 0.33492422103881836\n",
            "Epoch 211 train loss: 0.3654, eval loss 0.3347921669483185\n",
            "Epoch 212 train loss: 0.3827, eval loss 0.3346802890300751\n",
            "Epoch 213 train loss: 0.3547, eval loss 0.3345877230167389\n",
            "Epoch 214 train loss: 0.3665, eval loss 0.33447232842445374\n",
            "Epoch 215 train loss: 0.3767, eval loss 0.33436039090156555\n",
            "Epoch 216 train loss: 0.3678, eval loss 0.3342612683773041\n",
            "Epoch 217 train loss: 0.3534, eval loss 0.3341411352157593\n",
            "Epoch 218 train loss: 0.3603, eval loss 0.33403879404067993\n",
            "Epoch 219 train loss: 0.3565, eval loss 0.3339388966560364\n",
            "Epoch 220 train loss: 0.3724, eval loss 0.3338180184364319\n",
            "Epoch 221 train loss: 0.3748, eval loss 0.33370640873908997\n",
            "Epoch 222 train loss: 0.3571, eval loss 0.33360156416893005\n",
            "Epoch 223 train loss: 0.3705, eval loss 0.33350881934165955\n",
            "Epoch 224 train loss: 0.3483, eval loss 0.3334035873413086\n",
            "Epoch 225 train loss: 0.3851, eval loss 0.333303838968277\n",
            "Epoch 226 train loss: 0.3864, eval loss 0.33320358395576477\n",
            "Epoch 227 train loss: 0.3665, eval loss 0.3330734372138977\n",
            "Epoch 228 train loss: 0.3332, eval loss 0.3329640030860901\n",
            "Epoch 229 train loss: 0.3745, eval loss 0.33285653591156006\n",
            "Epoch 230 train loss: 0.3766, eval loss 0.33276745676994324\n",
            "Epoch 231 train loss: 0.3746, eval loss 0.3326631188392639\n",
            "Epoch 232 train loss: 0.3867, eval loss 0.3325670063495636\n",
            "Epoch 233 train loss: 0.3633, eval loss 0.3324759006500244\n",
            "Epoch 234 train loss: 0.3728, eval loss 0.3323855996131897\n",
            "Epoch 235 train loss: 0.3534, eval loss 0.3322962820529938\n",
            "Epoch 236 train loss: 0.3809, eval loss 0.33220213651657104\n",
            "Epoch 237 train loss: 0.3538, eval loss 0.33211368322372437\n",
            "Epoch 238 train loss: 0.3652, eval loss 0.33200618624687195\n",
            "Epoch 239 train loss: 0.3814, eval loss 0.33191409707069397\n",
            "Epoch 240 train loss: 0.3689, eval loss 0.33183377981185913\n",
            "Epoch 241 train loss: 0.3605, eval loss 0.33174169063568115\n",
            "Epoch 242 train loss: 0.3800, eval loss 0.33164718747138977\n",
            "Epoch 243 train loss: 0.3752, eval loss 0.331560343503952\n",
            "Epoch 244 train loss: 0.3944, eval loss 0.3314606249332428\n",
            "Epoch 245 train loss: 0.3963, eval loss 0.3313608467578888\n",
            "Epoch 246 train loss: 0.4115, eval loss 0.3313005268573761\n",
            "Epoch 247 train loss: 0.3589, eval loss 0.3311959207057953\n",
            "Epoch 248 train loss: 0.3608, eval loss 0.3311082124710083\n",
            "Epoch 249 train loss: 0.3751, eval loss 0.3310161828994751\n",
            "Epoch 250 train loss: 0.4065, eval loss 0.33093640208244324\n",
            "Epoch 251 train loss: 0.3617, eval loss 0.3308452367782593\n",
            "Epoch 252 train loss: 0.3193, eval loss 0.33075886964797974\n",
            "Epoch 253 train loss: 0.3580, eval loss 0.33068421483039856\n",
            "Epoch 254 train loss: 0.3685, eval loss 0.33060750365257263\n",
            "Epoch 255 train loss: 0.3322, eval loss 0.33052557706832886\n",
            "Epoch 256 train loss: 0.3959, eval loss 0.3304269313812256\n",
            "Epoch 257 train loss: 0.4164, eval loss 0.3303413987159729\n",
            "Epoch 258 train loss: 0.3827, eval loss 0.33026254177093506\n",
            "Epoch 259 train loss: 0.3720, eval loss 0.3301889896392822\n",
            "Epoch 260 train loss: 0.3564, eval loss 0.3301081359386444\n",
            "Epoch 261 train loss: 0.3532, eval loss 0.33001649379730225\n",
            "Epoch 262 train loss: 0.3704, eval loss 0.3299345374107361\n",
            "Epoch 263 train loss: 0.3658, eval loss 0.3298521339893341\n",
            "Epoch 264 train loss: 0.3784, eval loss 0.32977956533432007\n",
            "Epoch 265 train loss: 0.3821, eval loss 0.32971760630607605\n",
            "Epoch 266 train loss: 0.3893, eval loss 0.3296276330947876\n",
            "Epoch 267 train loss: 0.3680, eval loss 0.3295517563819885\n",
            "Epoch 268 train loss: 0.3951, eval loss 0.32947713136672974\n",
            "Epoch 269 train loss: 0.3824, eval loss 0.32939350605010986\n",
            "Epoch 270 train loss: 0.3304, eval loss 0.32932358980178833\n",
            "Epoch 271 train loss: 0.3791, eval loss 0.3292486071586609\n",
            "Epoch 272 train loss: 0.3665, eval loss 0.3291775584220886\n",
            "Epoch 273 train loss: 0.3825, eval loss 0.32911065220832825\n",
            "Epoch 274 train loss: 0.4120, eval loss 0.32905805110931396\n",
            "Epoch 275 train loss: 0.3753, eval loss 0.32897937297821045\n",
            "Epoch 276 train loss: 0.3510, eval loss 0.32890942692756653\n",
            "Epoch 277 train loss: 0.3556, eval loss 0.32883545756340027\n",
            "Epoch 278 train loss: 0.3681, eval loss 0.3287474513053894\n",
            "Epoch 279 train loss: 0.3511, eval loss 0.3286612629890442\n",
            "Epoch 280 train loss: 0.3606, eval loss 0.32859641313552856\n",
            "Epoch 281 train loss: 0.3678, eval loss 0.32853981852531433\n",
            "Epoch 282 train loss: 0.3620, eval loss 0.32847195863723755\n",
            "Epoch 283 train loss: 0.4095, eval loss 0.32841670513153076\n",
            "Epoch 284 train loss: 0.3900, eval loss 0.32833752036094666\n",
            "Epoch 285 train loss: 0.3692, eval loss 0.32825684547424316\n",
            "Epoch 286 train loss: 0.3794, eval loss 0.32819265127182007\n",
            "Epoch 287 train loss: 0.3796, eval loss 0.3281334936618805\n",
            "Epoch 288 train loss: 0.3729, eval loss 0.3280627727508545\n",
            "Epoch 289 train loss: 0.3525, eval loss 0.32799115777015686\n",
            "Epoch 290 train loss: 0.3706, eval loss 0.32793447375297546\n",
            "Epoch 291 train loss: 0.3679, eval loss 0.3278627097606659\n",
            "Epoch 292 train loss: 0.3658, eval loss 0.32780441641807556\n",
            "Epoch 293 train loss: 0.3839, eval loss 0.3277370035648346\n",
            "Epoch 294 train loss: 0.3736, eval loss 0.32767730951309204\n",
            "Epoch 295 train loss: 0.3652, eval loss 0.32761260867118835\n",
            "Epoch 296 train loss: 0.3631, eval loss 0.32756027579307556\n",
            "Epoch 297 train loss: 0.3506, eval loss 0.3275015354156494\n",
            "Epoch 298 train loss: 0.3653, eval loss 0.32743901014328003\n",
            "Epoch 299 train loss: 0.3998, eval loss 0.3273759186267853\n"
          ]
        }
      ],
      "source": [
        "model = RegularizedMLP(\n",
        "    input_size=X_train.shape[1],\n",
        "    dropout_p=dropout_p\n",
        ")\n",
        "optimizer = torch.optim.SGD(\n",
        "    model.parameters(),\n",
        "    lr=learning_rate,\n",
        "    weight_decay=l2_reg\n",
        ")\n",
        "loss_fn = torch.nn.BCEWithLogitsLoss()\n",
        "\n",
        "train_dataset = MyDataset(X_train, y_train)\n",
        "train_dataloader = DataLoader(train_dataset, batch_size=batch_size)\n",
        "\n",
        "steps_without_improvement = 0\n",
        "\n",
        "best_val_loss = np.inf\n",
        "best_model = None\n",
        "best_threshold = None\n",
        "\n",
        "for epoch_num in range(max_epochs):\n",
        "    model.train()\n",
        "    # note that we are using DataLoader to get batches\n",
        "    for X_batch, y_batch in train_dataloader:\n",
        "        # model training\n",
        "        # implement me!\n",
        "        # your_code\n",
        "        y_pred = model(X_batch)\n",
        "        loss = loss_fn(y_pred, y_batch)\n",
        "        loss.backward()\n",
        "\n",
        "        optimizer.step()\n",
        "        optimizer.zero_grad()\n",
        "\n",
        "\n",
        "\n",
        "    # model evaluation, early stopping\n",
        "    # implement me!\n",
        "    # your_code\n",
        "    model.eval()\n",
        "    valid_metrics = evaluate_model(model, X_valid, y_valid, loss_fn)\n",
        "    if valid_metrics[\"loss\"] >= best_val_loss:\n",
        "        steps_without_improvement += 1\n",
        "        if steps_without_improvement == early_stopping_patience:\n",
        "            break\n",
        "    else:\n",
        "        steps_without_improvement = 0\n",
        "        best_val_loss = valid_metrics[\"loss\"]\n",
        "        best_model = deepcopy(model)\n",
        "        best_threshold = valid_metrics[\"optimal_threshold\"]\n",
        "\n",
        "    # model evaluation, early stopping\n",
        "    # implement me!\n",
        "    # your_code\n",
        "\n",
        "    print(f\"Epoch {epoch_num} train loss: {loss.item():.4f}, eval loss {valid_metrics['loss']}\")\n"
      ]
    },
    {
      "cell_type": "code",
      "execution_count": null,
      "metadata": {
        "colab": {
          "base_uri": "https://localhost:8080/"
        },
        "id": "DknGWhZ2_nvR",
        "outputId": "e68d89a9-6f5b-4b01-df25-46ea8b210ddd"
      },
      "outputs": [
        {
          "name": "stdout",
          "output_type": "stream",
          "text": [
            "AUROC: 90.20%\n",
            "F1: 68.53%\n",
            "Precision: 61.47%\n",
            "Recall: 77.42%\n"
          ]
        }
      ],
      "source": [
        "test_metrics = evaluate_model(best_model, X_test, y_test, loss_fn, best_threshold)\n",
        "\n",
        "print(f\"AUROC: {100 * test_metrics['AUROC']:.2f}%\")\n",
        "print(f\"F1: {100 * test_metrics['F1-score']:.2f}%\")\n",
        "print(f\"Precision: {100 * test_metrics['precision']:.2f}%\")\n",
        "print(f\"Recall: {100 * test_metrics['recall']:.2f}%\")"
      ]
    },
    {
      "cell_type": "markdown",
      "metadata": {
        "id": "MF06LRdO_nvR"
      },
      "source": [
        "Wyniki wyglądają już dużo lepiej.\n",
        "\n",
        "Na koniec laboratorium dołożymy do naszego modelu jeszcze 3 powrzechnie używane techniki, które są bardzo proste, a pozwalają często ulepszyć wynik modelu.\n",
        "\n",
        "Pierwszą z nich są **warstwy normalizacji (normalization layers)**. Powstały one początkowo z założeniem, że przez przekształcenia przestrzeni dokonywane przez sieć zmienia się rozkład prawdopodobieństw pomiędzy warstwami, czyli tzw. *internal covariate shift*. Później okazało się, że zastosowanie takiej normalizacji wygładza powierzchnię funkcji kosztu, co ułatwia i przyspiesza optymalizację. Najpowszechniej używaną normalizacją jest **batch normalization (batch norm)**.\n",
        "\n",
        "Drugim ulepszeniem jest dodanie **wag klas (class weights)**. Mamy do czynienia z problemem klasyfikacji niezbalansowanej, więc klasa mniejszościowa, ważniejsza dla nas, powinna dostać większą wagę. Implementuje się to trywialnie prosto - po prostu mnożymy wartość funkcji kosztu dla danego przykładu przez wagę dla prawdziwej klasy tego przykładu. Praktycznie każdy klasyfikator operujący na jakiejś ważonej funkcji może działać w ten sposób, nie tylko sieci neuronowe.\n",
        "\n",
        "Ostatnim ulepszeniem jest zamiana SGD na optymalizator Adam, a konkretnie na optymalizator `AdamW`. Jest to przykład **optymalizatora adaptacyjnego (adaptive optimizer)**, który potrafi zaadaptować stałą uczącą dla każdego parametru z osobna w trakcie treningu. Wykorzystuje do tego gradienty - w uproszczeniu, im większa wariancja gradientu, tym mniejsze kroki w tym kierunku robimy."
      ]
    },
    {
      "cell_type": "markdown",
      "metadata": {
        "id": "rU1hiewp_nvR"
      },
      "source": [
        "#### Zadanie 8 (0.5 punktu)\n",
        "\n",
        "Zaimplementuj model `NormalizingMLP`, o takiej samej strukturze jak `RegularizedMLP`, ale dodatkowo z warstwami `BatchNorm1d` pomiędzy warstwami `Linear` oraz `ReLU`.\n",
        "\n",
        "Za pomocą funkcji `compute_class_weight()` oblicz wagi dla poszczególnych klas. Użyj opcji `\"balanced\"`. Przekaż do funkcji kosztu wagę klasy pozytywnej (pamiętaj, aby zamienić ją na tensor).\n",
        "\n",
        "Zamień używany optymalizator na `AdamW`.\n",
        "\n",
        "Na koniec skopiuj resztę kodu do treningu z poprzedniego zadania, wytrenuj sieć i oblicz wyniki na zbiorze testowym."
      ]
    },
    {
      "cell_type": "code",
      "execution_count": null,
      "metadata": {
        "id": "h0gAIq8v_nvS"
      },
      "outputs": [],
      "source": [
        "class NormalizingMLP(nn.Module):\n",
        "    def __init__(self, input_size: int, dropout_p: float = 0.5):\n",
        "        super().__init__()\n",
        "\n",
        "        self.model = nn.Sequential(\n",
        "            nn.Linear(input_size, 256),\n",
        "            nn.BatchNorm1d(256),\n",
        "            nn.ReLU(),\n",
        "            nn.Dropout(dropout_p),\n",
        "            nn.Linear(256, 128),\n",
        "            nn.BatchNorm1d(128),\n",
        "            nn.ReLU(),\n",
        "            nn.Dropout(dropout_p),\n",
        "            nn.Linear(128, 1)\n",
        "        )\n",
        "\n",
        "    def forward(self, x):\n",
        "        return self.mlp(x)\n",
        "\n",
        "    def predict_proba(self, x):\n",
        "        return sigmoid(self(x))\n",
        "\n",
        "    def predict(self, x, threshold: float = 0.5):\n",
        "        y_pred_score = self.predict_proba(x)\n",
        "        return (y_pred_score > threshold).to(torch.int32)\n"
      ]
    },
    {
      "cell_type": "code",
      "execution_count": null,
      "metadata": {
        "id": "R0Bsa7yA_nvS"
      },
      "outputs": [],
      "source": [
        "# define all the hyperparameters\n",
        "# your_code\n",
        "\n",
        "from sklearn.utils.class_weight import compute_class_weight\n",
        "\n",
        "weights = compute_class_weight(\n",
        "    class_weight='balanced',\n",
        "    classes=np.unique(y),\n",
        "    y=y\n",
        ")\n",
        "\n"
      ]
    },
    {
      "cell_type": "code",
      "execution_count": null,
      "metadata": {
        "colab": {
          "base_uri": "https://localhost:8080/"
        },
        "id": "HYi9y_5u_nvS",
        "outputId": "eb86b518-6588-4190-a16c-9e2c7b1963e1",
        "scrolled": true
      },
      "outputs": [
        {
          "name": "stdout",
          "output_type": "stream",
          "text": [
            "Epoch 0 train loss: 0.6082, eval loss 0.47712841629981995\n",
            "Epoch 1 train loss: 0.5715, eval loss 0.4713049829006195\n",
            "Epoch 2 train loss: 0.5306, eval loss 0.4694746434688568\n",
            "Epoch 3 train loss: 0.5047, eval loss 0.46890610456466675\n",
            "Epoch 4 train loss: 0.5076, eval loss 0.46889832615852356\n",
            "Epoch 5 train loss: 0.5022, eval loss 0.4709169864654541\n",
            "Epoch 6 train loss: 0.5381, eval loss 0.47079530358314514\n",
            "Epoch 7 train loss: 0.5440, eval loss 0.46991804242134094\n"
          ]
        }
      ],
      "source": [
        "# training loop\n",
        "# your_code\n",
        "\n",
        "model = RegularizedMLP(\n",
        "    input_size=X_train.shape[1],\n",
        "    dropout_p=dropout_p\n",
        ")\n",
        "optimizer = torch.optim.AdamW(\n",
        "    model.parameters(),\n",
        "    lr=learning_rate,\n",
        "    weight_decay=l2_reg\n",
        ")\n",
        "loss_fn = torch.nn.BCEWithLogitsLoss(pos_weight = torch.from_numpy(weights)[1])\n",
        "\n",
        "train_dataset = MyDataset(X_train, y_train)\n",
        "train_dataloader = DataLoader(train_dataset, batch_size=batch_size)\n",
        "\n",
        "steps_without_improvement = 0\n",
        "\n",
        "best_val_loss = np.inf\n",
        "best_model = None\n",
        "best_threshold = None\n",
        "\n",
        "for epoch_num in range(max_epochs):\n",
        "    model.train()\n",
        "    # note that we are using DataLoader to get batches\n",
        "    for X_batch, y_batch in train_dataloader:\n",
        "        # model training\n",
        "        # implement me!\n",
        "        # your_code\n",
        "        y_pred = model(X_batch)\n",
        "        loss = loss_fn(y_pred, y_batch)\n",
        "        loss.backward()\n",
        "\n",
        "        optimizer.step()\n",
        "        optimizer.zero_grad()\n",
        "\n",
        "\n",
        "\n",
        "    # model evaluation, early stopping\n",
        "    # implement me!\n",
        "    # your_code\n",
        "    model.eval()\n",
        "    valid_metrics = evaluate_model(model, X_valid, y_valid, loss_fn)\n",
        "    if valid_metrics[\"loss\"] >= best_val_loss:\n",
        "        steps_without_improvement += 1\n",
        "        if steps_without_improvement == early_stopping_patience:\n",
        "            break\n",
        "    else:\n",
        "        steps_without_improvement = 0\n",
        "        best_val_loss = valid_metrics[\"loss\"]\n",
        "        best_model = deepcopy(model)\n",
        "        best_threshold = valid_metrics[\"optimal_threshold\"]\n",
        "\n",
        "    # model evaluation, early stopping\n",
        "    # implement me!\n",
        "    # your_code\n",
        "\n",
        "    print(f\"Epoch {epoch_num} train loss: {loss.item():.4f}, eval loss {valid_metrics['loss']}\")\n"
      ]
    },
    {
      "cell_type": "code",
      "execution_count": null,
      "metadata": {
        "colab": {
          "base_uri": "https://localhost:8080/"
        },
        "id": "BUEsdlrA_nvS",
        "outputId": "be1f475c-9678-4fa7-8895-ed3a5e2027af",
        "scrolled": true
      },
      "outputs": [
        {
          "name": "stdout",
          "output_type": "stream",
          "text": [
            "AUROC: 90.81%\n",
            "F1: 69.64%\n",
            "Precision: 63.45%\n",
            "Recall: 77.17%\n"
          ]
        }
      ],
      "source": [
        "test_metrics = evaluate_model(best_model, X_test, y_test, loss_fn, best_threshold)\n",
        "\n",
        "print(f\"AUROC: {100 * test_metrics['AUROC']:.2f}%\")\n",
        "print(f\"F1: {100 * test_metrics['F1-score']:.2f}%\")\n",
        "print(f\"Precision: {100 * test_metrics['precision']:.2f}%\")\n",
        "print(f\"Recall: {100 * test_metrics['recall']:.2f}%\")"
      ]
    },
    {
      "cell_type": "markdown",
      "metadata": {
        "id": "XyoRnHT4GFR9"
      },
      "source": [
        "## Akceleracja sprzętowa (dla zainteresowanych)"
      ]
    },
    {
      "cell_type": "markdown",
      "metadata": {
        "id": "Wu8IjMT2_nvS"
      },
      "source": [
        "Jak wcześniej wspominaliśmy, użycie akceleracji sprzętowej, czyli po prostu GPU do obliczeń, jest bardzo efektywne w przypadku sieci neuronowych. Karty graficzne bardzo efektywnie mnożą macierze, a sieci neuronowe to, jak można było się przekonać, dużo mnożenia macierzy.\n",
        "\n",
        "W PyTorchu jest to dosyć łatwe, ale trzeba robić to explicite. Służy do tego metoda `.to()`, która przenosi tensory między CPU i GPU. Poniżej przykład, jak to się robi (oczywiście trzeba mieć skonfigurowane GPU, żeby działało):"
      ]
    },
    {
      "cell_type": "code",
      "execution_count": null,
      "metadata": {
        "colab": {
          "base_uri": "https://localhost:8080/"
        },
        "id": "7IN9lHT7_nvS",
        "outputId": "a709cc60-8ec0-4ecd-e0dd-c3467fa023c5"
      },
      "outputs": [
        {
          "name": "stdout",
          "output_type": "stream",
          "text": [
            "Epoch 0 train loss: 0.8977, time: 3.1048765182495117\n",
            "Epoch 1 train loss: 0.4154, time: 0.7414312362670898\n",
            "Epoch 2 train loss: 0.4916, time: 1.0044963359832764\n",
            "Epoch 3 train loss: 0.4384, time: 1.0893337726593018\n",
            "Epoch 4 train loss: 0.5952, time: 1.0478589534759521\n",
            "Epoch 6 train loss: 0.3297, time: 0.8966443538665771\n",
            "Epoch 7 train loss: 0.4930, time: 0.7365231513977051\n",
            "Epoch 8 train loss: 0.4418, time: 0.7235805988311768\n",
            "Epoch 9 train loss: 0.4240, time: 0.7346470355987549\n",
            "Epoch 11 train loss: 0.4799, time: 0.74228835105896\n",
            "Epoch 12 train loss: 0.3692, time: 0.7429094314575195\n",
            "Epoch 13 train loss: 0.5222, time: 0.7661483287811279\n",
            "Epoch 14 train loss: 0.3768, time: 0.7417514324188232\n",
            "Epoch 15 train loss: 0.4471, time: 0.7378849983215332\n",
            "Epoch 17 train loss: 0.3509, time: 0.7406003475189209\n",
            "Epoch 18 train loss: 0.4321, time: 0.7282257080078125\n",
            "Epoch 19 train loss: 0.4180, time: 0.7283115386962891\n",
            "Epoch 20 train loss: 0.4182, time: 0.7388060092926025\n",
            "Epoch 22 train loss: 0.4447, time: 0.7525627613067627\n",
            "Epoch 23 train loss: 0.4452, time: 1.0504169464111328\n",
            "Epoch 24 train loss: 0.3535, time: 1.0706136226654053\n",
            "Epoch 25 train loss: 0.4201, time: 1.0281996726989746\n",
            "Epoch 26 train loss: 0.4169, time: 0.8197333812713623\n",
            "Epoch 28 train loss: 0.5386, time: 0.7506134510040283\n",
            "Epoch 29 train loss: 0.4364, time: 0.7494363784790039\n",
            "AUROC: 90.42%\n",
            "F1: 69.71%\n",
            "{'loss': 0.5078116059303284, 'AUROC': 0.9041966736138338, 'optimal_threshold': 0.5, 'F1-score': 0.697076023391813, 'precision': 0.6436285097192225, 'recall': 0.7602040816326531}\n"
          ]
        }
      ],
      "source": [
        "import time\n",
        "\n",
        "\n",
        "class CudaMLP(nn.Module):\n",
        "    def __init__(self, input_size: int, dropout_p: float = 0.5):\n",
        "        super().__init__()\n",
        "\n",
        "        self.mlp = nn.Sequential(\n",
        "            nn.Linear(input_size, 512),\n",
        "            nn.BatchNorm1d(512),\n",
        "            nn.ReLU(),\n",
        "            nn.Dropout(dropout_p),\n",
        "            nn.Linear(512, 256),\n",
        "            nn.BatchNorm1d(256),\n",
        "            nn.ReLU(),\n",
        "            nn.Dropout(dropout_p),\n",
        "            nn.Linear(256, 256),\n",
        "            nn.BatchNorm1d(256),\n",
        "            nn.ReLU(),\n",
        "            nn.Dropout(dropout_p),\n",
        "            nn.Linear(256, 128),\n",
        "            nn.BatchNorm1d(128),\n",
        "            nn.ReLU(),\n",
        "            nn.Dropout(dropout_p),\n",
        "            nn.Linear(128, 1),\n",
        "        )\n",
        "\n",
        "    def forward(self, x):\n",
        "        return self.mlp(x)\n",
        "\n",
        "    def predict_proba(self, x):\n",
        "        return sigmoid(self(x))\n",
        "\n",
        "    def predict(self, x, threshold: float = 0.5):\n",
        "        y_pred_score = self.predict_proba(x)\n",
        "        return (y_pred_score > threshold).to(torch.int32)\n",
        "\n",
        "\n",
        "model = CudaMLP(X_train.shape[1]).to('cuda')\n",
        "\n",
        "optimizer = torch.optim.AdamW(model.parameters(), lr=learning_rate, weight_decay=1e-4)\n",
        "\n",
        "# note that we are using loss function with sigmoid built in\n",
        "loss_fn = torch.nn.BCEWithLogitsLoss(pos_weight=torch.from_numpy(weights)[1].to('cuda'))\n",
        "\n",
        "step_counter = 0\n",
        "time_from_eval = time.time()\n",
        "for epoch_id in range(30):\n",
        "    for batch_x, batch_y in train_dataloader:\n",
        "        batch_x = batch_x.to('cuda')\n",
        "        batch_y = batch_y.to('cuda')\n",
        "\n",
        "        loss = loss_fn(model(batch_x), batch_y)\n",
        "        loss.backward()\n",
        "\n",
        "        optimizer.step()\n",
        "        optimizer.zero_grad()\n",
        "\n",
        "        if step_counter % evaluation_steps == 0:\n",
        "            print(f\"Epoch {epoch_id} train loss: {loss.item():.4f}, time: {time.time() - time_from_eval}\")\n",
        "            time_from_eval = time.time()\n",
        "\n",
        "        step_counter += 1\n",
        "\n",
        "test_res = evaluate_model(model.to('cpu'), X_test, y_test, loss_fn.to('cpu'), threshold=0.5)\n",
        "\n",
        "print(f\"AUROC: {100 * test_res['AUROC']:.2f}%\")\n",
        "print(f\"F1: {100 * test_res['F1-score']:.2f}%\")\n",
        "print(test_res)"
      ]
    },
    {
      "cell_type": "markdown",
      "metadata": {
        "id": "7cXB1ZBv_nvS"
      },
      "source": [
        "Co prawda ten model nie będzie tak dobry jak ten z laboratorium, ale zwróć uwagę, o ile jest większy, a przy tym szybszy.\n",
        "\n",
        "Dla zainteresowanych polecamy [tę serie artykułów](https://medium.com/@adi.fu7/ai-accelerators-part-i-intro-822c2cdb4ca4)"
      ]
    },
    {
      "cell_type": "markdown",
      "metadata": {
        "id": "TlV3LHvV_nvS"
      },
      "source": [
        "## Zadanie dla chętnych"
      ]
    },
    {
      "cell_type": "markdown",
      "metadata": {
        "id": "28J1FFWG_nvS"
      },
      "source": [
        "Jak widzieliśmy, sieci neuronowe mają bardzo dużo hiperparametrów. Przeszukiwanie ich grid search'em jest więc niewykonalne, a chociaż random search by działał, to potrzebowałby wielu iteracji, co też jest kosztowne obliczeniowo.\n",
        "\n",
        "Zaimplementuj inteligentne przeszukiwanie przestrzeni hiperparametrów za pomocą biblioteki [Optuna](https://optuna.org/). Implementuje ona między innymi algorytm Tree Parzen Estimator (TPE), należący do grupy algorytmów typu Bayesian search. Typowo osiągają one bardzo dobre wyniki, a właściwie zawsze lepsze od przeszukiwania losowego. Do tego wystarcza im często niewielka liczba kroków.\n",
        "\n",
        "Zaimplementuj 3-warstwową sieć MLP, gdzie pierwsza warstwa ma rozmiar ukryty N, a druga N // 2. Ucz ją optymalizatorem Adam przez maksymalnie 300 epok z cierpliwością 10.\n",
        "\n",
        "Przeszukaj wybrane zakresy dla hiperparametrów:\n",
        "- rozmiar warstw ukrytych (N)\n",
        "- stała ucząca\n",
        "- batch size\n",
        "- siła regularyzacji L2\n",
        "- prawdopodobieństwo dropoutu\n",
        "\n",
        "Wykorzystaj przynajmniej 30 iteracji. Następnie przełącz algorytm na losowy (Optuna także jego implementuje), wykonaj 30 iteracji i porównaj jakość wyników.\n",
        "\n",
        "Przydatne materiały:\n",
        "- [Optuna code examples - PyTorch](https://optuna.org/#code_examples)\n",
        "- [Auto-Tuning Hyperparameters with Optuna and PyTorch](https://www.youtube.com/watch?v=P6NwZVl8ttc)\n",
        "- [Hyperparameter Tuning of Neural Networks with Optuna and PyTorch](https://towardsdatascience.com/hyperparameter-tuning-of-neural-networks-with-optuna-and-pytorch-22e179efc837)\n",
        "- [Using Optuna to Optimize PyTorch Hyperparameters](https://medium.com/pytorch/using-optuna-to-optimize-pytorch-hyperparameters-990607385e36)"
      ]
    },
    {
      "cell_type": "code",
      "execution_count": null,
      "metadata": {
        "id": "lNnYOImP_nvT"
      },
      "outputs": [],
      "source": []
    }
  ],
  "metadata": {
    "accelerator": "GPU",
    "colab": {
      "gpuType": "T4",
      "provenance": []
    },
    "kernelspec": {
      "display_name": "Python 3",
      "name": "python3"
    },
    "language_info": {
      "codemirror_mode": {
        "name": "ipython",
        "version": 3
      },
      "file_extension": ".py",
      "mimetype": "text/x-python",
      "name": "python",
      "nbconvert_exporter": "python",
      "pygments_lexer": "ipython3",
      "version": "3.10.12"
    },
    "vscode": {
      "interpreter": {
        "hash": "a5d7af91182035c53be6efb3f9b18ffc3e259c9c524705249407647c970de949"
      }
    }
  },
  "nbformat": 4,
  "nbformat_minor": 0
}
